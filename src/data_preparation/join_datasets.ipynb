{
 "cells": [
  {
   "cell_type": "code",
   "id": "initial_id",
   "metadata": {
    "collapsed": true,
    "ExecuteTime": {
     "end_time": "2024-09-27T09:59:11.394084Z",
     "start_time": "2024-09-27T09:59:11.391342Z"
    }
   },
   "source": "import pandas as pd\n",
   "outputs": [],
   "execution_count": 79
  },
  {
   "metadata": {
    "ExecuteTime": {
     "end_time": "2024-09-27T09:59:11.706659Z",
     "start_time": "2024-09-27T09:59:11.628257Z"
    }
   },
   "cell_type": "code",
   "source": [
    "sexism_data = pd.read_csv('../data/original/sexism_data.csv')\n",
    "etiq_sexista = pd.read_csv('../data/original/Etiquetado sexista.csv')\n",
    "edos = pd.read_csv('../data/original/edos_labelled_aggregated.csv')"
   ],
   "id": "5085511dc0e52434",
   "outputs": [],
   "execution_count": 80
  },
  {
   "metadata": {
    "ExecuteTime": {
     "end_time": "2024-09-27T09:59:11.752239Z",
     "start_time": "2024-09-27T09:59:11.740642Z"
    }
   },
   "cell_type": "code",
   "source": [
    "sexism_data.drop(['id','of_id','dataset','toxicity'], axis=1, inplace=True)\n",
    "edos.drop(['rewire_id','label_category','label_vector','split'], axis=1, inplace=True)\n",
    "\n",
    "edos.replace(\"not sexist\", 0, inplace=True)\n",
    "edos.replace(\"sexist\", 1, inplace=True)\n",
    "\n",
    "sexism_data.replace(\"False\", 0, inplace=True)\n",
    "sexism_data.replace(\"True\", 1, inplace=True)\n",
    "\n",
    "etiq_sexista = etiq_sexista.rename(columns={'Label': 'label'})\n",
    "sexism_data = sexism_data.rename(columns={'sexist': 'label'})\n",
    "edos = edos.rename(columns={'label_sexist': 'label'})\n",
    "etiq_sexista = etiq_sexista.rename(columns={'Sentences': 'text'})\n",
    "\n",
    "sexism_data['set'] = 0\n",
    "etiq_sexista['set'] = 1\n",
    "edos['set'] = 2"
   ],
   "id": "4cd28c4f3e396d6",
   "outputs": [
    {
     "name": "stderr",
     "output_type": "stream",
     "text": [
      "/var/folders/xl/pzfrh6cs6m3509511z8q28500000gn/T/ipykernel_19089/4033441887.py:5: FutureWarning: Downcasting behavior in `replace` is deprecated and will be removed in a future version. To retain the old behavior, explicitly call `result.infer_objects(copy=False)`. To opt-in to the future behavior, set `pd.set_option('future.no_silent_downcasting', True)`\n",
      "  edos.replace(\"sexist\", 1, inplace=True)\n"
     ]
    }
   ],
   "execution_count": 81
  },
  {
   "metadata": {
    "ExecuteTime": {
     "end_time": "2024-09-27T09:59:11.870736Z",
     "start_time": "2024-09-27T09:59:11.867276Z"
    }
   },
   "cell_type": "code",
   "source": "sexism_data.head()",
   "id": "23125ef4e278e510",
   "outputs": [
    {
     "data": {
      "text/plain": [
       "                                                text  label  set\n",
       "0  MENTION3481 i didn't even know random was an o...  False    0\n",
       "1                   Bottom two should've gone!  #mkr  False    0\n",
       "2  MENTION3111 MENTION3424 ladyboner deserves so ...  False    0\n",
       "3  She shall now be known as Sourpuss #MKR #KatAn...  False    0\n",
       "4  Tarah W threw a bunch of women under the bus s...  False    0"
      ],
      "text/html": [
       "<div>\n",
       "<style scoped>\n",
       "    .dataframe tbody tr th:only-of-type {\n",
       "        vertical-align: middle;\n",
       "    }\n",
       "\n",
       "    .dataframe tbody tr th {\n",
       "        vertical-align: top;\n",
       "    }\n",
       "\n",
       "    .dataframe thead th {\n",
       "        text-align: right;\n",
       "    }\n",
       "</style>\n",
       "<table border=\"1\" class=\"dataframe\">\n",
       "  <thead>\n",
       "    <tr style=\"text-align: right;\">\n",
       "      <th></th>\n",
       "      <th>text</th>\n",
       "      <th>label</th>\n",
       "      <th>set</th>\n",
       "    </tr>\n",
       "  </thead>\n",
       "  <tbody>\n",
       "    <tr>\n",
       "      <th>0</th>\n",
       "      <td>MENTION3481 i didn't even know random was an o...</td>\n",
       "      <td>False</td>\n",
       "      <td>0</td>\n",
       "    </tr>\n",
       "    <tr>\n",
       "      <th>1</th>\n",
       "      <td>Bottom two should've gone!  #mkr</td>\n",
       "      <td>False</td>\n",
       "      <td>0</td>\n",
       "    </tr>\n",
       "    <tr>\n",
       "      <th>2</th>\n",
       "      <td>MENTION3111 MENTION3424 ladyboner deserves so ...</td>\n",
       "      <td>False</td>\n",
       "      <td>0</td>\n",
       "    </tr>\n",
       "    <tr>\n",
       "      <th>3</th>\n",
       "      <td>She shall now be known as Sourpuss #MKR #KatAn...</td>\n",
       "      <td>False</td>\n",
       "      <td>0</td>\n",
       "    </tr>\n",
       "    <tr>\n",
       "      <th>4</th>\n",
       "      <td>Tarah W threw a bunch of women under the bus s...</td>\n",
       "      <td>False</td>\n",
       "      <td>0</td>\n",
       "    </tr>\n",
       "  </tbody>\n",
       "</table>\n",
       "</div>"
      ]
     },
     "execution_count": 82,
     "metadata": {},
     "output_type": "execute_result"
    }
   ],
   "execution_count": 82
  },
  {
   "metadata": {
    "ExecuteTime": {
     "end_time": "2024-09-27T09:59:11.990751Z",
     "start_time": "2024-09-27T09:59:11.986604Z"
    }
   },
   "cell_type": "code",
   "source": "sexism_data",
   "id": "ea0592ef70684a52",
   "outputs": [
    {
     "data": {
      "text/plain": [
       "                                                    text  label  set\n",
       "0      MENTION3481 i didn't even know random was an o...  False    0\n",
       "1                       Bottom two should've gone!  #mkr  False    0\n",
       "2      MENTION3111 MENTION3424 ladyboner deserves so ...  False    0\n",
       "3      She shall now be known as Sourpuss #MKR #KatAn...  False    0\n",
       "4      Tarah W threw a bunch of women under the bus s...  False    0\n",
       "...                                                  ...    ...  ...\n",
       "13626  this reminds me of the MENTION3079 situation; ...  False    0\n",
       "13627  #mkr I love Annie and loyld there like a real ...  False    0\n",
       "13628                       No u. http://t.co/zOr0eWahSS  False    0\n",
       "13629  #mkr the way kat looks at Annie is like she's ...  False    0\n",
       "13630  #mkr omg the kiss stains on the \"dirty\" mirror...  False    0\n",
       "\n",
       "[13631 rows x 3 columns]"
      ],
      "text/html": [
       "<div>\n",
       "<style scoped>\n",
       "    .dataframe tbody tr th:only-of-type {\n",
       "        vertical-align: middle;\n",
       "    }\n",
       "\n",
       "    .dataframe tbody tr th {\n",
       "        vertical-align: top;\n",
       "    }\n",
       "\n",
       "    .dataframe thead th {\n",
       "        text-align: right;\n",
       "    }\n",
       "</style>\n",
       "<table border=\"1\" class=\"dataframe\">\n",
       "  <thead>\n",
       "    <tr style=\"text-align: right;\">\n",
       "      <th></th>\n",
       "      <th>text</th>\n",
       "      <th>label</th>\n",
       "      <th>set</th>\n",
       "    </tr>\n",
       "  </thead>\n",
       "  <tbody>\n",
       "    <tr>\n",
       "      <th>0</th>\n",
       "      <td>MENTION3481 i didn't even know random was an o...</td>\n",
       "      <td>False</td>\n",
       "      <td>0</td>\n",
       "    </tr>\n",
       "    <tr>\n",
       "      <th>1</th>\n",
       "      <td>Bottom two should've gone!  #mkr</td>\n",
       "      <td>False</td>\n",
       "      <td>0</td>\n",
       "    </tr>\n",
       "    <tr>\n",
       "      <th>2</th>\n",
       "      <td>MENTION3111 MENTION3424 ladyboner deserves so ...</td>\n",
       "      <td>False</td>\n",
       "      <td>0</td>\n",
       "    </tr>\n",
       "    <tr>\n",
       "      <th>3</th>\n",
       "      <td>She shall now be known as Sourpuss #MKR #KatAn...</td>\n",
       "      <td>False</td>\n",
       "      <td>0</td>\n",
       "    </tr>\n",
       "    <tr>\n",
       "      <th>4</th>\n",
       "      <td>Tarah W threw a bunch of women under the bus s...</td>\n",
       "      <td>False</td>\n",
       "      <td>0</td>\n",
       "    </tr>\n",
       "    <tr>\n",
       "      <th>...</th>\n",
       "      <td>...</td>\n",
       "      <td>...</td>\n",
       "      <td>...</td>\n",
       "    </tr>\n",
       "    <tr>\n",
       "      <th>13626</th>\n",
       "      <td>this reminds me of the MENTION3079 situation; ...</td>\n",
       "      <td>False</td>\n",
       "      <td>0</td>\n",
       "    </tr>\n",
       "    <tr>\n",
       "      <th>13627</th>\n",
       "      <td>#mkr I love Annie and loyld there like a real ...</td>\n",
       "      <td>False</td>\n",
       "      <td>0</td>\n",
       "    </tr>\n",
       "    <tr>\n",
       "      <th>13628</th>\n",
       "      <td>No u. http://t.co/zOr0eWahSS</td>\n",
       "      <td>False</td>\n",
       "      <td>0</td>\n",
       "    </tr>\n",
       "    <tr>\n",
       "      <th>13629</th>\n",
       "      <td>#mkr the way kat looks at Annie is like she's ...</td>\n",
       "      <td>False</td>\n",
       "      <td>0</td>\n",
       "    </tr>\n",
       "    <tr>\n",
       "      <th>13630</th>\n",
       "      <td>#mkr omg the kiss stains on the \"dirty\" mirror...</td>\n",
       "      <td>False</td>\n",
       "      <td>0</td>\n",
       "    </tr>\n",
       "  </tbody>\n",
       "</table>\n",
       "<p>13631 rows × 3 columns</p>\n",
       "</div>"
      ]
     },
     "execution_count": 83,
     "metadata": {},
     "output_type": "execute_result"
    }
   ],
   "execution_count": 83
  },
  {
   "metadata": {
    "ExecuteTime": {
     "end_time": "2024-09-27T09:59:12.093536Z",
     "start_time": "2024-09-27T09:59:12.089496Z"
    }
   },
   "cell_type": "code",
   "source": "etiq_sexista",
   "id": "59876dae3ab5fe0b",
   "outputs": [
    {
     "data": {
      "text/plain": [
       "                                                   text  label  set\n",
       "0                             For a woman, that is good      1    1\n",
       "1       Just dress sexy and you will sign any contract.      1    1\n",
       "2                               Are you having period ?      1    1\n",
       "3                                     Stop being bitchy      1    1\n",
       "4     I leave early because of her children instead ...      1    1\n",
       "...                                                 ...    ...  ...\n",
       "1132  Opportunities are like night owls. They like t...      0    1\n",
       "1133  It's not just a question of doing what you lov...      0    1\n",
       "1134  A genius does what he masters. An ordinary man...      0    1\n",
       "1135  If you want to know the real reasons behind th...      0    1\n",
       "1136  Questioning is important for breakthrough inno...      0    1\n",
       "\n",
       "[1137 rows x 3 columns]"
      ],
      "text/html": [
       "<div>\n",
       "<style scoped>\n",
       "    .dataframe tbody tr th:only-of-type {\n",
       "        vertical-align: middle;\n",
       "    }\n",
       "\n",
       "    .dataframe tbody tr th {\n",
       "        vertical-align: top;\n",
       "    }\n",
       "\n",
       "    .dataframe thead th {\n",
       "        text-align: right;\n",
       "    }\n",
       "</style>\n",
       "<table border=\"1\" class=\"dataframe\">\n",
       "  <thead>\n",
       "    <tr style=\"text-align: right;\">\n",
       "      <th></th>\n",
       "      <th>text</th>\n",
       "      <th>label</th>\n",
       "      <th>set</th>\n",
       "    </tr>\n",
       "  </thead>\n",
       "  <tbody>\n",
       "    <tr>\n",
       "      <th>0</th>\n",
       "      <td>For a woman, that is good</td>\n",
       "      <td>1</td>\n",
       "      <td>1</td>\n",
       "    </tr>\n",
       "    <tr>\n",
       "      <th>1</th>\n",
       "      <td>Just dress sexy and you will sign any contract.</td>\n",
       "      <td>1</td>\n",
       "      <td>1</td>\n",
       "    </tr>\n",
       "    <tr>\n",
       "      <th>2</th>\n",
       "      <td>Are you having period ?</td>\n",
       "      <td>1</td>\n",
       "      <td>1</td>\n",
       "    </tr>\n",
       "    <tr>\n",
       "      <th>3</th>\n",
       "      <td>Stop being bitchy</td>\n",
       "      <td>1</td>\n",
       "      <td>1</td>\n",
       "    </tr>\n",
       "    <tr>\n",
       "      <th>4</th>\n",
       "      <td>I leave early because of her children instead ...</td>\n",
       "      <td>1</td>\n",
       "      <td>1</td>\n",
       "    </tr>\n",
       "    <tr>\n",
       "      <th>...</th>\n",
       "      <td>...</td>\n",
       "      <td>...</td>\n",
       "      <td>...</td>\n",
       "    </tr>\n",
       "    <tr>\n",
       "      <th>1132</th>\n",
       "      <td>Opportunities are like night owls. They like t...</td>\n",
       "      <td>0</td>\n",
       "      <td>1</td>\n",
       "    </tr>\n",
       "    <tr>\n",
       "      <th>1133</th>\n",
       "      <td>It's not just a question of doing what you lov...</td>\n",
       "      <td>0</td>\n",
       "      <td>1</td>\n",
       "    </tr>\n",
       "    <tr>\n",
       "      <th>1134</th>\n",
       "      <td>A genius does what he masters. An ordinary man...</td>\n",
       "      <td>0</td>\n",
       "      <td>1</td>\n",
       "    </tr>\n",
       "    <tr>\n",
       "      <th>1135</th>\n",
       "      <td>If you want to know the real reasons behind th...</td>\n",
       "      <td>0</td>\n",
       "      <td>1</td>\n",
       "    </tr>\n",
       "    <tr>\n",
       "      <th>1136</th>\n",
       "      <td>Questioning is important for breakthrough inno...</td>\n",
       "      <td>0</td>\n",
       "      <td>1</td>\n",
       "    </tr>\n",
       "  </tbody>\n",
       "</table>\n",
       "<p>1137 rows × 3 columns</p>\n",
       "</div>"
      ]
     },
     "execution_count": 84,
     "metadata": {},
     "output_type": "execute_result"
    }
   ],
   "execution_count": 84
  },
  {
   "metadata": {
    "ExecuteTime": {
     "end_time": "2024-09-27T09:59:12.203001Z",
     "start_time": "2024-09-27T09:59:12.198570Z"
    }
   },
   "cell_type": "code",
   "source": "edos",
   "id": "9b0a0b868b58e529",
   "outputs": [
    {
     "data": {
      "text/plain": [
       "                                                    text  label  set\n",
       "0      In Nigeria, if you rape a woman, the men rape ...      0    2\n",
       "1                                Then, she's a keeper. 😉      0    2\n",
       "2      This is like the Metallica video where the poo...      0    2\n",
       "3                                                 woman?      0    2\n",
       "4                         I bet she wished she had a gun      0    2\n",
       "...                                                  ...    ...  ...\n",
       "19995     girls really get fucked almost every weekend ?      0    2\n",
       "19996  The hatred for moslems are Reasonable and Just...      0    2\n",
       "19997                 Now this is a woman who gets it. 👆      0    2\n",
       "19998  “American Idol” finalist [USER] said nothing i...      0    2\n",
       "19999      this bi--th should be stoped she's the rapist      1    2\n",
       "\n",
       "[20000 rows x 3 columns]"
      ],
      "text/html": [
       "<div>\n",
       "<style scoped>\n",
       "    .dataframe tbody tr th:only-of-type {\n",
       "        vertical-align: middle;\n",
       "    }\n",
       "\n",
       "    .dataframe tbody tr th {\n",
       "        vertical-align: top;\n",
       "    }\n",
       "\n",
       "    .dataframe thead th {\n",
       "        text-align: right;\n",
       "    }\n",
       "</style>\n",
       "<table border=\"1\" class=\"dataframe\">\n",
       "  <thead>\n",
       "    <tr style=\"text-align: right;\">\n",
       "      <th></th>\n",
       "      <th>text</th>\n",
       "      <th>label</th>\n",
       "      <th>set</th>\n",
       "    </tr>\n",
       "  </thead>\n",
       "  <tbody>\n",
       "    <tr>\n",
       "      <th>0</th>\n",
       "      <td>In Nigeria, if you rape a woman, the men rape ...</td>\n",
       "      <td>0</td>\n",
       "      <td>2</td>\n",
       "    </tr>\n",
       "    <tr>\n",
       "      <th>1</th>\n",
       "      <td>Then, she's a keeper. 😉</td>\n",
       "      <td>0</td>\n",
       "      <td>2</td>\n",
       "    </tr>\n",
       "    <tr>\n",
       "      <th>2</th>\n",
       "      <td>This is like the Metallica video where the poo...</td>\n",
       "      <td>0</td>\n",
       "      <td>2</td>\n",
       "    </tr>\n",
       "    <tr>\n",
       "      <th>3</th>\n",
       "      <td>woman?</td>\n",
       "      <td>0</td>\n",
       "      <td>2</td>\n",
       "    </tr>\n",
       "    <tr>\n",
       "      <th>4</th>\n",
       "      <td>I bet she wished she had a gun</td>\n",
       "      <td>0</td>\n",
       "      <td>2</td>\n",
       "    </tr>\n",
       "    <tr>\n",
       "      <th>...</th>\n",
       "      <td>...</td>\n",
       "      <td>...</td>\n",
       "      <td>...</td>\n",
       "    </tr>\n",
       "    <tr>\n",
       "      <th>19995</th>\n",
       "      <td>girls really get fucked almost every weekend ?</td>\n",
       "      <td>0</td>\n",
       "      <td>2</td>\n",
       "    </tr>\n",
       "    <tr>\n",
       "      <th>19996</th>\n",
       "      <td>The hatred for moslems are Reasonable and Just...</td>\n",
       "      <td>0</td>\n",
       "      <td>2</td>\n",
       "    </tr>\n",
       "    <tr>\n",
       "      <th>19997</th>\n",
       "      <td>Now this is a woman who gets it. 👆</td>\n",
       "      <td>0</td>\n",
       "      <td>2</td>\n",
       "    </tr>\n",
       "    <tr>\n",
       "      <th>19998</th>\n",
       "      <td>“American Idol” finalist [USER] said nothing i...</td>\n",
       "      <td>0</td>\n",
       "      <td>2</td>\n",
       "    </tr>\n",
       "    <tr>\n",
       "      <th>19999</th>\n",
       "      <td>this bi--th should be stoped she's the rapist</td>\n",
       "      <td>1</td>\n",
       "      <td>2</td>\n",
       "    </tr>\n",
       "  </tbody>\n",
       "</table>\n",
       "<p>20000 rows × 3 columns</p>\n",
       "</div>"
      ]
     },
     "execution_count": 85,
     "metadata": {},
     "output_type": "execute_result"
    }
   ],
   "execution_count": 85
  },
  {
   "metadata": {
    "ExecuteTime": {
     "end_time": "2024-09-27T09:59:12.308529Z",
     "start_time": "2024-09-27T09:59:12.305874Z"
    }
   },
   "cell_type": "code",
   "source": "df = pd.concat([sexism_data,edos,etiq_sexista],ignore_index=True)\n",
   "id": "334f91c617c48ce9",
   "outputs": [],
   "execution_count": 86
  },
  {
   "metadata": {
    "ExecuteTime": {
     "end_time": "2024-09-27T09:59:12.478639Z",
     "start_time": "2024-09-27T09:59:12.476552Z"
    }
   },
   "cell_type": "code",
   "source": [
    "porcentaje = 7287/34457\n",
    "camb = 7287*5\n",
    "resto = 34457 - 7287\n",
    "nuevo = camb/(camb+resto)\n",
    "print(nuevo)"
   ],
   "id": "29ca83663522a23c",
   "outputs": [
    {
     "name": "stdout",
     "output_type": "stream",
     "text": [
      "0.5728323245027906\n"
     ]
    }
   ],
   "execution_count": 87
  },
  {
   "metadata": {
    "ExecuteTime": {
     "end_time": "2024-09-27T09:59:12.568811Z",
     "start_time": "2024-09-27T09:59:12.567402Z"
    }
   },
   "cell_type": "code",
   "source": "",
   "id": "c608c25b47935039",
   "outputs": [],
   "execution_count": null
  },
  {
   "metadata": {
    "ExecuteTime": {
     "end_time": "2024-09-27T09:59:12.715693Z",
     "start_time": "2024-09-27T09:59:12.711296Z"
    }
   },
   "cell_type": "code",
   "source": [
    "df_t = df[df['label']==1]\n",
    "df_f = df[df['label']==0]"
   ],
   "id": "e69bfe5586500c5a",
   "outputs": [],
   "execution_count": 88
  },
  {
   "metadata": {
    "ExecuteTime": {
     "end_time": "2024-09-27T09:59:12.968237Z",
     "start_time": "2024-09-27T09:59:12.915646Z"
    }
   },
   "cell_type": "code",
   "source": "df.to_csv('../data/full.csv',index = False)",
   "id": "3bfd777542afbd1c",
   "outputs": [],
   "execution_count": 89
  },
  {
   "metadata": {
    "ExecuteTime": {
     "end_time": "2024-09-27T09:59:13.103055Z",
     "start_time": "2024-09-27T09:59:13.087231Z"
    }
   },
   "cell_type": "code",
   "source": "df_t.to_csv('../data/only_sexist.csv', index = False)",
   "id": "46e69c5524f759da",
   "outputs": [],
   "execution_count": 90
  },
  {
   "metadata": {
    "ExecuteTime": {
     "end_time": "2024-09-27T09:59:13.515777Z",
     "start_time": "2024-09-27T09:59:13.487798Z"
    }
   },
   "cell_type": "code",
   "source": [
    "dftr = pd.read_csv('../data/EXIST 2021 Dataset/training/EXIST2021_training.tsv',sep='\\t')\n",
    "dfte = pd.read_csv('../data/EXIST 2021 Dataset/test/EXIST2021_test_labeled.tsv',sep='\\t')"
   ],
   "id": "a76ec2e78cf00921",
   "outputs": [],
   "execution_count": 91
  },
  {
   "metadata": {
    "ExecuteTime": {
     "end_time": "2024-09-27T09:59:57.139497Z",
     "start_time": "2024-09-27T09:59:57.134471Z"
    }
   },
   "cell_type": "code",
   "source": [
    "dftr.head()\n",
    "df_2 = pd.concat([dftr,dfte],ignore_index=True)\n",
    "df_2[\"set\"] = 4"
   ],
   "id": "f30798f34258b441",
   "outputs": [],
   "execution_count": 102
  },
  {
   "metadata": {
    "ExecuteTime": {
     "end_time": "2024-09-27T09:59:57.288376Z",
     "start_time": "2024-09-27T09:59:57.283161Z"
    }
   },
   "cell_type": "code",
   "source": "df_2.head()",
   "id": "6a542d3df00b49f7",
   "outputs": [
    {
     "data": {
      "text/plain": [
       "   test_case  id   source language  \\\n",
       "0  EXIST2021   1  twitter       en   \n",
       "1  EXIST2021   2  twitter       en   \n",
       "2  EXIST2021   3  twitter       en   \n",
       "3  EXIST2021   4  twitter       en   \n",
       "4  EXIST2021   5  twitter       en   \n",
       "\n",
       "                                                text       task1  \\\n",
       "0  She calls herself \"anti-feminazi\" how about sh...      sexist   \n",
       "1  Now, back to these women, the brave and the be...  non-sexist   \n",
       "2  @CurvyBandida @Xalynne_B Wow, your skirt is ve...      sexist   \n",
       "3  @AurelieGuiboud Incredible!  Beautiful!But I l...  non-sexist   \n",
       "4  i find it extremely hard to believe that kelly...  non-sexist   \n",
       "\n",
       "                    task2  set  \n",
       "0  ideological-inequality    4  \n",
       "1              non-sexist    4  \n",
       "2         objectification    4  \n",
       "3              non-sexist    4  \n",
       "4              non-sexist    4  "
      ],
      "text/html": [
       "<div>\n",
       "<style scoped>\n",
       "    .dataframe tbody tr th:only-of-type {\n",
       "        vertical-align: middle;\n",
       "    }\n",
       "\n",
       "    .dataframe tbody tr th {\n",
       "        vertical-align: top;\n",
       "    }\n",
       "\n",
       "    .dataframe thead th {\n",
       "        text-align: right;\n",
       "    }\n",
       "</style>\n",
       "<table border=\"1\" class=\"dataframe\">\n",
       "  <thead>\n",
       "    <tr style=\"text-align: right;\">\n",
       "      <th></th>\n",
       "      <th>test_case</th>\n",
       "      <th>id</th>\n",
       "      <th>source</th>\n",
       "      <th>language</th>\n",
       "      <th>text</th>\n",
       "      <th>task1</th>\n",
       "      <th>task2</th>\n",
       "      <th>set</th>\n",
       "    </tr>\n",
       "  </thead>\n",
       "  <tbody>\n",
       "    <tr>\n",
       "      <th>0</th>\n",
       "      <td>EXIST2021</td>\n",
       "      <td>1</td>\n",
       "      <td>twitter</td>\n",
       "      <td>en</td>\n",
       "      <td>She calls herself \"anti-feminazi\" how about sh...</td>\n",
       "      <td>sexist</td>\n",
       "      <td>ideological-inequality</td>\n",
       "      <td>4</td>\n",
       "    </tr>\n",
       "    <tr>\n",
       "      <th>1</th>\n",
       "      <td>EXIST2021</td>\n",
       "      <td>2</td>\n",
       "      <td>twitter</td>\n",
       "      <td>en</td>\n",
       "      <td>Now, back to these women, the brave and the be...</td>\n",
       "      <td>non-sexist</td>\n",
       "      <td>non-sexist</td>\n",
       "      <td>4</td>\n",
       "    </tr>\n",
       "    <tr>\n",
       "      <th>2</th>\n",
       "      <td>EXIST2021</td>\n",
       "      <td>3</td>\n",
       "      <td>twitter</td>\n",
       "      <td>en</td>\n",
       "      <td>@CurvyBandida @Xalynne_B Wow, your skirt is ve...</td>\n",
       "      <td>sexist</td>\n",
       "      <td>objectification</td>\n",
       "      <td>4</td>\n",
       "    </tr>\n",
       "    <tr>\n",
       "      <th>3</th>\n",
       "      <td>EXIST2021</td>\n",
       "      <td>4</td>\n",
       "      <td>twitter</td>\n",
       "      <td>en</td>\n",
       "      <td>@AurelieGuiboud Incredible!  Beautiful!But I l...</td>\n",
       "      <td>non-sexist</td>\n",
       "      <td>non-sexist</td>\n",
       "      <td>4</td>\n",
       "    </tr>\n",
       "    <tr>\n",
       "      <th>4</th>\n",
       "      <td>EXIST2021</td>\n",
       "      <td>5</td>\n",
       "      <td>twitter</td>\n",
       "      <td>en</td>\n",
       "      <td>i find it extremely hard to believe that kelly...</td>\n",
       "      <td>non-sexist</td>\n",
       "      <td>non-sexist</td>\n",
       "      <td>4</td>\n",
       "    </tr>\n",
       "  </tbody>\n",
       "</table>\n",
       "</div>"
      ]
     },
     "execution_count": 103,
     "metadata": {},
     "output_type": "execute_result"
    }
   ],
   "execution_count": 103
  },
  {
   "metadata": {
    "ExecuteTime": {
     "end_time": "2024-09-27T09:59:57.473919Z",
     "start_time": "2024-09-27T09:59:57.470901Z"
    }
   },
   "cell_type": "code",
   "source": "df_2_en = df_2[df_2['language']==\"en\"]\n",
   "id": "e153fd9fee111668",
   "outputs": [],
   "execution_count": 104
  },
  {
   "metadata": {
    "ExecuteTime": {
     "end_time": "2024-09-27T09:59:57.657716Z",
     "start_time": "2024-09-27T09:59:57.654211Z"
    }
   },
   "cell_type": "code",
   "source": "df_2_en.drop(['language'], axis=1, inplace=True)",
   "id": "32554402561ca1f7",
   "outputs": [
    {
     "name": "stderr",
     "output_type": "stream",
     "text": [
      "/var/folders/xl/pzfrh6cs6m3509511z8q28500000gn/T/ipykernel_19089/1081946479.py:1: SettingWithCopyWarning: \n",
      "A value is trying to be set on a copy of a slice from a DataFrame\n",
      "\n",
      "See the caveats in the documentation: https://pandas.pydata.org/pandas-docs/stable/user_guide/indexing.html#returning-a-view-versus-a-copy\n",
      "  df_2_en.drop(['language'], axis=1, inplace=True)\n"
     ]
    }
   ],
   "execution_count": 105
  },
  {
   "metadata": {
    "ExecuteTime": {
     "end_time": "2024-09-27T09:59:58.024315Z",
     "start_time": "2024-09-27T09:59:58.019703Z"
    }
   },
   "cell_type": "code",
   "source": "df_2_en.head()\n",
   "id": "62cf16060b4b727a",
   "outputs": [
    {
     "data": {
      "text/plain": [
       "   test_case  id   source                                               text  \\\n",
       "0  EXIST2021   1  twitter  She calls herself \"anti-feminazi\" how about sh...   \n",
       "1  EXIST2021   2  twitter  Now, back to these women, the brave and the be...   \n",
       "2  EXIST2021   3  twitter  @CurvyBandida @Xalynne_B Wow, your skirt is ve...   \n",
       "3  EXIST2021   4  twitter  @AurelieGuiboud Incredible!  Beautiful!But I l...   \n",
       "4  EXIST2021   5  twitter  i find it extremely hard to believe that kelly...   \n",
       "\n",
       "        task1                   task2  set  \n",
       "0      sexist  ideological-inequality    4  \n",
       "1  non-sexist              non-sexist    4  \n",
       "2      sexist         objectification    4  \n",
       "3  non-sexist              non-sexist    4  \n",
       "4  non-sexist              non-sexist    4  "
      ],
      "text/html": [
       "<div>\n",
       "<style scoped>\n",
       "    .dataframe tbody tr th:only-of-type {\n",
       "        vertical-align: middle;\n",
       "    }\n",
       "\n",
       "    .dataframe tbody tr th {\n",
       "        vertical-align: top;\n",
       "    }\n",
       "\n",
       "    .dataframe thead th {\n",
       "        text-align: right;\n",
       "    }\n",
       "</style>\n",
       "<table border=\"1\" class=\"dataframe\">\n",
       "  <thead>\n",
       "    <tr style=\"text-align: right;\">\n",
       "      <th></th>\n",
       "      <th>test_case</th>\n",
       "      <th>id</th>\n",
       "      <th>source</th>\n",
       "      <th>text</th>\n",
       "      <th>task1</th>\n",
       "      <th>task2</th>\n",
       "      <th>set</th>\n",
       "    </tr>\n",
       "  </thead>\n",
       "  <tbody>\n",
       "    <tr>\n",
       "      <th>0</th>\n",
       "      <td>EXIST2021</td>\n",
       "      <td>1</td>\n",
       "      <td>twitter</td>\n",
       "      <td>She calls herself \"anti-feminazi\" how about sh...</td>\n",
       "      <td>sexist</td>\n",
       "      <td>ideological-inequality</td>\n",
       "      <td>4</td>\n",
       "    </tr>\n",
       "    <tr>\n",
       "      <th>1</th>\n",
       "      <td>EXIST2021</td>\n",
       "      <td>2</td>\n",
       "      <td>twitter</td>\n",
       "      <td>Now, back to these women, the brave and the be...</td>\n",
       "      <td>non-sexist</td>\n",
       "      <td>non-sexist</td>\n",
       "      <td>4</td>\n",
       "    </tr>\n",
       "    <tr>\n",
       "      <th>2</th>\n",
       "      <td>EXIST2021</td>\n",
       "      <td>3</td>\n",
       "      <td>twitter</td>\n",
       "      <td>@CurvyBandida @Xalynne_B Wow, your skirt is ve...</td>\n",
       "      <td>sexist</td>\n",
       "      <td>objectification</td>\n",
       "      <td>4</td>\n",
       "    </tr>\n",
       "    <tr>\n",
       "      <th>3</th>\n",
       "      <td>EXIST2021</td>\n",
       "      <td>4</td>\n",
       "      <td>twitter</td>\n",
       "      <td>@AurelieGuiboud Incredible!  Beautiful!But I l...</td>\n",
       "      <td>non-sexist</td>\n",
       "      <td>non-sexist</td>\n",
       "      <td>4</td>\n",
       "    </tr>\n",
       "    <tr>\n",
       "      <th>4</th>\n",
       "      <td>EXIST2021</td>\n",
       "      <td>5</td>\n",
       "      <td>twitter</td>\n",
       "      <td>i find it extremely hard to believe that kelly...</td>\n",
       "      <td>non-sexist</td>\n",
       "      <td>non-sexist</td>\n",
       "      <td>4</td>\n",
       "    </tr>\n",
       "  </tbody>\n",
       "</table>\n",
       "</div>"
      ]
     },
     "execution_count": 106,
     "metadata": {},
     "output_type": "execute_result"
    }
   ],
   "execution_count": 106
  },
  {
   "metadata": {
    "ExecuteTime": {
     "end_time": "2024-09-27T09:59:58.449947Z",
     "start_time": "2024-09-27T09:59:58.443772Z"
    }
   },
   "cell_type": "code",
   "source": [
    "df_2_en.replace(\"sexist\", 1, inplace=True)\n",
    "df_2_en.replace(\"non-sexist\", 0, inplace=True)\n",
    "df_2_en = df_2_en.rename(columns={'task1': 'label'})"
   ],
   "id": "9c1758d6aa4d913e",
   "outputs": [
    {
     "name": "stderr",
     "output_type": "stream",
     "text": [
      "/var/folders/xl/pzfrh6cs6m3509511z8q28500000gn/T/ipykernel_19089/3816453775.py:1: SettingWithCopyWarning: \n",
      "A value is trying to be set on a copy of a slice from a DataFrame\n",
      "\n",
      "See the caveats in the documentation: https://pandas.pydata.org/pandas-docs/stable/user_guide/indexing.html#returning-a-view-versus-a-copy\n",
      "  df_2_en.replace(\"sexist\", 1, inplace=True)\n",
      "/var/folders/xl/pzfrh6cs6m3509511z8q28500000gn/T/ipykernel_19089/3816453775.py:2: FutureWarning: Downcasting behavior in `replace` is deprecated and will be removed in a future version. To retain the old behavior, explicitly call `result.infer_objects(copy=False)`. To opt-in to the future behavior, set `pd.set_option('future.no_silent_downcasting', True)`\n",
      "  df_2_en.replace(\"non-sexist\", 0, inplace=True)\n",
      "/var/folders/xl/pzfrh6cs6m3509511z8q28500000gn/T/ipykernel_19089/3816453775.py:2: SettingWithCopyWarning: \n",
      "A value is trying to be set on a copy of a slice from a DataFrame\n",
      "\n",
      "See the caveats in the documentation: https://pandas.pydata.org/pandas-docs/stable/user_guide/indexing.html#returning-a-view-versus-a-copy\n",
      "  df_2_en.replace(\"non-sexist\", 0, inplace=True)\n"
     ]
    }
   ],
   "execution_count": 107
  },
  {
   "metadata": {
    "ExecuteTime": {
     "end_time": "2024-09-27T09:59:59.811622Z",
     "start_time": "2024-09-27T09:59:59.807416Z"
    }
   },
   "cell_type": "code",
   "source": [
    "df_2_en.head()\n",
    "df_2_en.drop([\"test_case\", \"id\", \"source\", \"task2\"], axis = 1, inplace = True)\n"
   ],
   "id": "7cada255bf0815ed",
   "outputs": [],
   "execution_count": 108
  },
  {
   "metadata": {
    "ExecuteTime": {
     "end_time": "2024-09-27T10:00:00.469282Z",
     "start_time": "2024-09-27T10:00:00.463579Z"
    }
   },
   "cell_type": "code",
   "source": "df_2_en.head()",
   "id": "25496980fc3d53ed",
   "outputs": [
    {
     "data": {
      "text/plain": [
       "                                                text  label  set\n",
       "0  She calls herself \"anti-feminazi\" how about sh...      1    4\n",
       "1  Now, back to these women, the brave and the be...      0    4\n",
       "2  @CurvyBandida @Xalynne_B Wow, your skirt is ve...      1    4\n",
       "3  @AurelieGuiboud Incredible!  Beautiful!But I l...      0    4\n",
       "4  i find it extremely hard to believe that kelly...      0    4"
      ],
      "text/html": [
       "<div>\n",
       "<style scoped>\n",
       "    .dataframe tbody tr th:only-of-type {\n",
       "        vertical-align: middle;\n",
       "    }\n",
       "\n",
       "    .dataframe tbody tr th {\n",
       "        vertical-align: top;\n",
       "    }\n",
       "\n",
       "    .dataframe thead th {\n",
       "        text-align: right;\n",
       "    }\n",
       "</style>\n",
       "<table border=\"1\" class=\"dataframe\">\n",
       "  <thead>\n",
       "    <tr style=\"text-align: right;\">\n",
       "      <th></th>\n",
       "      <th>text</th>\n",
       "      <th>label</th>\n",
       "      <th>set</th>\n",
       "    </tr>\n",
       "  </thead>\n",
       "  <tbody>\n",
       "    <tr>\n",
       "      <th>0</th>\n",
       "      <td>She calls herself \"anti-feminazi\" how about sh...</td>\n",
       "      <td>1</td>\n",
       "      <td>4</td>\n",
       "    </tr>\n",
       "    <tr>\n",
       "      <th>1</th>\n",
       "      <td>Now, back to these women, the brave and the be...</td>\n",
       "      <td>0</td>\n",
       "      <td>4</td>\n",
       "    </tr>\n",
       "    <tr>\n",
       "      <th>2</th>\n",
       "      <td>@CurvyBandida @Xalynne_B Wow, your skirt is ve...</td>\n",
       "      <td>1</td>\n",
       "      <td>4</td>\n",
       "    </tr>\n",
       "    <tr>\n",
       "      <th>3</th>\n",
       "      <td>@AurelieGuiboud Incredible!  Beautiful!But I l...</td>\n",
       "      <td>0</td>\n",
       "      <td>4</td>\n",
       "    </tr>\n",
       "    <tr>\n",
       "      <th>4</th>\n",
       "      <td>i find it extremely hard to believe that kelly...</td>\n",
       "      <td>0</td>\n",
       "      <td>4</td>\n",
       "    </tr>\n",
       "  </tbody>\n",
       "</table>\n",
       "</div>"
      ]
     },
     "execution_count": 109,
     "metadata": {},
     "output_type": "execute_result"
    }
   ],
   "execution_count": 109
  },
  {
   "metadata": {
    "ExecuteTime": {
     "end_time": "2024-09-27T10:00:01.451805Z",
     "start_time": "2024-09-27T10:00:01.447218Z"
    }
   },
   "cell_type": "code",
   "source": "df = pd.concat([df,df_2_en],ignore_index=True)",
   "id": "c438b6aa6f5d26dc",
   "outputs": [],
   "execution_count": 110
  },
  {
   "metadata": {
    "ExecuteTime": {
     "end_time": "2024-09-27T10:00:03.381869Z",
     "start_time": "2024-09-27T10:00:03.374387Z"
    }
   },
   "cell_type": "code",
   "source": "df.count()",
   "id": "7e681852b3a5d744",
   "outputs": [
    {
     "data": {
      "text/plain": [
       "text     46056\n",
       "label    46056\n",
       "set      40412\n",
       "dtype: int64"
      ]
     },
     "execution_count": 111,
     "metadata": {},
     "output_type": "execute_result"
    }
   ],
   "execution_count": 111
  },
  {
   "metadata": {
    "ExecuteTime": {
     "end_time": "2024-09-27T10:00:30.458920Z",
     "start_time": "2024-09-27T10:00:30.454841Z"
    }
   },
   "cell_type": "code",
   "source": "df_2_en_t = df_2_en[df_2_en['label'] == 1]\n",
   "id": "c502f366e60c93e6",
   "outputs": [],
   "execution_count": 112
  },
  {
   "metadata": {
    "ExecuteTime": {
     "end_time": "2024-09-27T10:00:30.748878Z",
     "start_time": "2024-09-27T10:00:30.743799Z"
    }
   },
   "cell_type": "code",
   "source": "df_2_en.head()",
   "id": "a4805616f41f5e3",
   "outputs": [
    {
     "data": {
      "text/plain": [
       "                                                text  label  set\n",
       "0  She calls herself \"anti-feminazi\" how about sh...      1    4\n",
       "1  Now, back to these women, the brave and the be...      0    4\n",
       "2  @CurvyBandida @Xalynne_B Wow, your skirt is ve...      1    4\n",
       "3  @AurelieGuiboud Incredible!  Beautiful!But I l...      0    4\n",
       "4  i find it extremely hard to believe that kelly...      0    4"
      ],
      "text/html": [
       "<div>\n",
       "<style scoped>\n",
       "    .dataframe tbody tr th:only-of-type {\n",
       "        vertical-align: middle;\n",
       "    }\n",
       "\n",
       "    .dataframe tbody tr th {\n",
       "        vertical-align: top;\n",
       "    }\n",
       "\n",
       "    .dataframe thead th {\n",
       "        text-align: right;\n",
       "    }\n",
       "</style>\n",
       "<table border=\"1\" class=\"dataframe\">\n",
       "  <thead>\n",
       "    <tr style=\"text-align: right;\">\n",
       "      <th></th>\n",
       "      <th>text</th>\n",
       "      <th>label</th>\n",
       "      <th>set</th>\n",
       "    </tr>\n",
       "  </thead>\n",
       "  <tbody>\n",
       "    <tr>\n",
       "      <th>0</th>\n",
       "      <td>She calls herself \"anti-feminazi\" how about sh...</td>\n",
       "      <td>1</td>\n",
       "      <td>4</td>\n",
       "    </tr>\n",
       "    <tr>\n",
       "      <th>1</th>\n",
       "      <td>Now, back to these women, the brave and the be...</td>\n",
       "      <td>0</td>\n",
       "      <td>4</td>\n",
       "    </tr>\n",
       "    <tr>\n",
       "      <th>2</th>\n",
       "      <td>@CurvyBandida @Xalynne_B Wow, your skirt is ve...</td>\n",
       "      <td>1</td>\n",
       "      <td>4</td>\n",
       "    </tr>\n",
       "    <tr>\n",
       "      <th>3</th>\n",
       "      <td>@AurelieGuiboud Incredible!  Beautiful!But I l...</td>\n",
       "      <td>0</td>\n",
       "      <td>4</td>\n",
       "    </tr>\n",
       "    <tr>\n",
       "      <th>4</th>\n",
       "      <td>i find it extremely hard to believe that kelly...</td>\n",
       "      <td>0</td>\n",
       "      <td>4</td>\n",
       "    </tr>\n",
       "  </tbody>\n",
       "</table>\n",
       "</div>"
      ]
     },
     "execution_count": 113,
     "metadata": {},
     "output_type": "execute_result"
    }
   ],
   "execution_count": 113
  },
  {
   "metadata": {
    "ExecuteTime": {
     "end_time": "2024-09-27T10:00:32.974002Z",
     "start_time": "2024-09-27T10:00:32.971286Z"
    }
   },
   "cell_type": "code",
   "source": "df_t = pd.concat([df_t,df_2_en_t],ignore_index=True)",
   "id": "635ace9ae6a6a9a6",
   "outputs": [],
   "execution_count": 114
  },
  {
   "metadata": {
    "ExecuteTime": {
     "end_time": "2024-09-27T10:00:38.318419Z",
     "start_time": "2024-09-27T10:00:38.211230Z"
    }
   },
   "cell_type": "code",
   "source": [
    "df.to_csv('../data/full.csv', index=False)\n",
    "df_t.to_csv('../data/only_sexist.csv', index=False)"
   ],
   "id": "965efb950d49168b",
   "outputs": [],
   "execution_count": 115
  },
  {
   "metadata": {
    "ExecuteTime": {
     "end_time": "2024-09-27T10:00:38.582687Z",
     "start_time": "2024-09-27T10:00:38.577363Z"
    }
   },
   "cell_type": "code",
   "source": "df.count()",
   "id": "2c72cd2bdfc86c37",
   "outputs": [
    {
     "data": {
      "text/plain": [
       "text     46056\n",
       "label    46056\n",
       "set      40412\n",
       "dtype: int64"
      ]
     },
     "execution_count": 116,
     "metadata": {},
     "output_type": "execute_result"
    }
   ],
   "execution_count": 116
  },
  {
   "metadata": {
    "ExecuteTime": {
     "end_time": "2024-09-27T10:00:53.551698Z",
     "start_time": "2024-09-27T10:00:53.547517Z"
    }
   },
   "cell_type": "code",
   "source": "df_t.count()",
   "id": "4d45c037b6fb3a41",
   "outputs": [
    {
     "data": {
      "text/plain": [
       "text     10081\n",
       "label    10081\n",
       "set      10081\n",
       "dtype: int64"
      ]
     },
     "execution_count": 117,
     "metadata": {},
     "output_type": "execute_result"
    }
   ],
   "execution_count": 117
  },
  {
   "metadata": {},
   "cell_type": "code",
   "outputs": [],
   "execution_count": null,
   "source": "",
   "id": "a9ddc15a78430cef"
  }
 ],
 "metadata": {
  "kernelspec": {
   "display_name": "Python 3",
   "language": "python",
   "name": "python3"
  },
  "language_info": {
   "codemirror_mode": {
    "name": "ipython",
    "version": 2
   },
   "file_extension": ".py",
   "mimetype": "text/x-python",
   "name": "python",
   "nbconvert_exporter": "python",
   "pygments_lexer": "ipython2",
   "version": "2.7.6"
  }
 },
 "nbformat": 4,
 "nbformat_minor": 5
}

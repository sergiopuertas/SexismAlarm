{
 "cells": [
  {
   "cell_type": "code",
   "id": "initial_id",
   "metadata": {
    "collapsed": true,
    "ExecuteTime": {
     "end_time": "2024-09-26T08:20:15.191558Z",
     "start_time": "2024-09-26T08:20:12.170908Z"
    }
   },
   "source": [
    "import pandas as pd\n",
    "\n",
    "from src.deployment.language_conversion import language_support"
   ],
   "outputs": [],
   "execution_count": 3
  },
  {
   "metadata": {
    "ExecuteTime": {
     "end_time": "2024-09-23T17:11:31.985156Z",
     "start_time": "2024-09-23T17:11:31.907296Z"
    }
   },
   "cell_type": "code",
   "source": [
    "sexism_data = pd.read_csv('../data/original/sexism_data.csv')\n",
    "etiq_sexista = pd.read_csv('../data/original/Etiquetado sexista.csv')\n",
    "edos = pd.read_csv('../data/original/edos_labelled_aggregated.csv')"
   ],
   "id": "5085511dc0e52434",
   "outputs": [],
   "execution_count": 24
  },
  {
   "metadata": {
    "ExecuteTime": {
     "end_time": "2024-09-23T17:11:32.154912Z",
     "start_time": "2024-09-23T17:11:32.139051Z"
    }
   },
   "cell_type": "code",
   "source": [
    "sexism_data.drop(['id','of_id','dataset','toxicity'], axis=1, inplace=True)\n",
    "edos.drop(['rewire_id','label_category','label_vector','split'], axis=1, inplace=True)\n",
    "\n",
    "edos.replace(\"not sexist\", 0, inplace=True)\n",
    "edos.replace(\"sexist\", 1, inplace=True)\n",
    "\n",
    "sexism_data.replace(\"False\", 0, inplace=True)\n",
    "sexism_data.replace(\"True\", 1, inplace=True)\n",
    "\n",
    "etiq_sexista = etiq_sexista.rename(columns={'Label': 'label'})\n",
    "sexism_data = sexism_data.rename(columns={'sexist': 'label'})\n",
    "edos = edos.rename(columns={'label_sexist': 'label'})\n",
    "etiq_sexista = etiq_sexista.rename(columns={'Sentences': 'text'})\n",
    "\n",
    "sexism_data['set'] = 0\n",
    "etiq_sexista['set'] = 1\n",
    "edos['set'] = 2"
   ],
   "id": "4cd28c4f3e396d6",
   "outputs": [
    {
     "name": "stderr",
     "output_type": "stream",
     "text": [
      "/var/folders/xl/pzfrh6cs6m3509511z8q28500000gn/T/ipykernel_86643/4033441887.py:5: FutureWarning: Downcasting behavior in `replace` is deprecated and will be removed in a future version. To retain the old behavior, explicitly call `result.infer_objects(copy=False)`. To opt-in to the future behavior, set `pd.set_option('future.no_silent_downcasting', True)`\n",
      "  edos.replace(\"sexist\", 1, inplace=True)\n"
     ]
    }
   ],
   "execution_count": 25
  },
  {
   "metadata": {
    "ExecuteTime": {
     "end_time": "2024-09-23T17:11:33.664626Z",
     "start_time": "2024-09-23T17:11:33.659749Z"
    }
   },
   "cell_type": "code",
   "source": "sexism_data.head()",
   "id": "23125ef4e278e510",
   "outputs": [
    {
     "data": {
      "text/plain": [
       "                                                text  label  set\n",
       "0  MENTION3481 i didn't even know random was an o...  False    0\n",
       "1                   Bottom two should've gone!  #mkr  False    0\n",
       "2  MENTION3111 MENTION3424 ladyboner deserves so ...  False    0\n",
       "3  She shall now be known as Sourpuss #MKR #KatAn...  False    0\n",
       "4  Tarah W threw a bunch of women under the bus s...  False    0"
      ],
      "text/html": [
       "<div>\n",
       "<style scoped>\n",
       "    .dataframe tbody tr th:only-of-type {\n",
       "        vertical-align: middle;\n",
       "    }\n",
       "\n",
       "    .dataframe tbody tr th {\n",
       "        vertical-align: top;\n",
       "    }\n",
       "\n",
       "    .dataframe thead th {\n",
       "        text-align: right;\n",
       "    }\n",
       "</style>\n",
       "<table border=\"1\" class=\"dataframe\">\n",
       "  <thead>\n",
       "    <tr style=\"text-align: right;\">\n",
       "      <th></th>\n",
       "      <th>text</th>\n",
       "      <th>label</th>\n",
       "      <th>set</th>\n",
       "    </tr>\n",
       "  </thead>\n",
       "  <tbody>\n",
       "    <tr>\n",
       "      <th>0</th>\n",
       "      <td>MENTION3481 i didn't even know random was an o...</td>\n",
       "      <td>False</td>\n",
       "      <td>0</td>\n",
       "    </tr>\n",
       "    <tr>\n",
       "      <th>1</th>\n",
       "      <td>Bottom two should've gone!  #mkr</td>\n",
       "      <td>False</td>\n",
       "      <td>0</td>\n",
       "    </tr>\n",
       "    <tr>\n",
       "      <th>2</th>\n",
       "      <td>MENTION3111 MENTION3424 ladyboner deserves so ...</td>\n",
       "      <td>False</td>\n",
       "      <td>0</td>\n",
       "    </tr>\n",
       "    <tr>\n",
       "      <th>3</th>\n",
       "      <td>She shall now be known as Sourpuss #MKR #KatAn...</td>\n",
       "      <td>False</td>\n",
       "      <td>0</td>\n",
       "    </tr>\n",
       "    <tr>\n",
       "      <th>4</th>\n",
       "      <td>Tarah W threw a bunch of women under the bus s...</td>\n",
       "      <td>False</td>\n",
       "      <td>0</td>\n",
       "    </tr>\n",
       "  </tbody>\n",
       "</table>\n",
       "</div>"
      ]
     },
     "execution_count": 26,
     "metadata": {},
     "output_type": "execute_result"
    }
   ],
   "execution_count": 26
  },
  {
   "metadata": {
    "ExecuteTime": {
     "end_time": "2024-09-23T17:11:33.784940Z",
     "start_time": "2024-09-23T17:11:33.780197Z"
    }
   },
   "cell_type": "code",
   "source": "sexism_data",
   "id": "ea0592ef70684a52",
   "outputs": [
    {
     "data": {
      "text/plain": [
       "                                                    text  label  set\n",
       "0      MENTION3481 i didn't even know random was an o...  False    0\n",
       "1                       Bottom two should've gone!  #mkr  False    0\n",
       "2      MENTION3111 MENTION3424 ladyboner deserves so ...  False    0\n",
       "3      She shall now be known as Sourpuss #MKR #KatAn...  False    0\n",
       "4      Tarah W threw a bunch of women under the bus s...  False    0\n",
       "...                                                  ...    ...  ...\n",
       "13626  this reminds me of the MENTION3079 situation; ...  False    0\n",
       "13627  #mkr I love Annie and loyld there like a real ...  False    0\n",
       "13628                       No u. http://t.co/zOr0eWahSS  False    0\n",
       "13629  #mkr the way kat looks at Annie is like she's ...  False    0\n",
       "13630  #mkr omg the kiss stains on the \"dirty\" mirror...  False    0\n",
       "\n",
       "[13631 rows x 3 columns]"
      ],
      "text/html": [
       "<div>\n",
       "<style scoped>\n",
       "    .dataframe tbody tr th:only-of-type {\n",
       "        vertical-align: middle;\n",
       "    }\n",
       "\n",
       "    .dataframe tbody tr th {\n",
       "        vertical-align: top;\n",
       "    }\n",
       "\n",
       "    .dataframe thead th {\n",
       "        text-align: right;\n",
       "    }\n",
       "</style>\n",
       "<table border=\"1\" class=\"dataframe\">\n",
       "  <thead>\n",
       "    <tr style=\"text-align: right;\">\n",
       "      <th></th>\n",
       "      <th>text</th>\n",
       "      <th>label</th>\n",
       "      <th>set</th>\n",
       "    </tr>\n",
       "  </thead>\n",
       "  <tbody>\n",
       "    <tr>\n",
       "      <th>0</th>\n",
       "      <td>MENTION3481 i didn't even know random was an o...</td>\n",
       "      <td>False</td>\n",
       "      <td>0</td>\n",
       "    </tr>\n",
       "    <tr>\n",
       "      <th>1</th>\n",
       "      <td>Bottom two should've gone!  #mkr</td>\n",
       "      <td>False</td>\n",
       "      <td>0</td>\n",
       "    </tr>\n",
       "    <tr>\n",
       "      <th>2</th>\n",
       "      <td>MENTION3111 MENTION3424 ladyboner deserves so ...</td>\n",
       "      <td>False</td>\n",
       "      <td>0</td>\n",
       "    </tr>\n",
       "    <tr>\n",
       "      <th>3</th>\n",
       "      <td>She shall now be known as Sourpuss #MKR #KatAn...</td>\n",
       "      <td>False</td>\n",
       "      <td>0</td>\n",
       "    </tr>\n",
       "    <tr>\n",
       "      <th>4</th>\n",
       "      <td>Tarah W threw a bunch of women under the bus s...</td>\n",
       "      <td>False</td>\n",
       "      <td>0</td>\n",
       "    </tr>\n",
       "    <tr>\n",
       "      <th>...</th>\n",
       "      <td>...</td>\n",
       "      <td>...</td>\n",
       "      <td>...</td>\n",
       "    </tr>\n",
       "    <tr>\n",
       "      <th>13626</th>\n",
       "      <td>this reminds me of the MENTION3079 situation; ...</td>\n",
       "      <td>False</td>\n",
       "      <td>0</td>\n",
       "    </tr>\n",
       "    <tr>\n",
       "      <th>13627</th>\n",
       "      <td>#mkr I love Annie and loyld there like a real ...</td>\n",
       "      <td>False</td>\n",
       "      <td>0</td>\n",
       "    </tr>\n",
       "    <tr>\n",
       "      <th>13628</th>\n",
       "      <td>No u. http://t.co/zOr0eWahSS</td>\n",
       "      <td>False</td>\n",
       "      <td>0</td>\n",
       "    </tr>\n",
       "    <tr>\n",
       "      <th>13629</th>\n",
       "      <td>#mkr the way kat looks at Annie is like she's ...</td>\n",
       "      <td>False</td>\n",
       "      <td>0</td>\n",
       "    </tr>\n",
       "    <tr>\n",
       "      <th>13630</th>\n",
       "      <td>#mkr omg the kiss stains on the \"dirty\" mirror...</td>\n",
       "      <td>False</td>\n",
       "      <td>0</td>\n",
       "    </tr>\n",
       "  </tbody>\n",
       "</table>\n",
       "<p>13631 rows × 3 columns</p>\n",
       "</div>"
      ]
     },
     "execution_count": 27,
     "metadata": {},
     "output_type": "execute_result"
    }
   ],
   "execution_count": 27
  },
  {
   "metadata": {
    "ExecuteTime": {
     "end_time": "2024-09-23T17:11:34.125375Z",
     "start_time": "2024-09-23T17:11:34.120401Z"
    }
   },
   "cell_type": "code",
   "source": "etiq_sexista",
   "id": "59876dae3ab5fe0b",
   "outputs": [
    {
     "data": {
      "text/plain": [
       "                                                   text  label  set\n",
       "0                             For a woman, that is good      1    1\n",
       "1       Just dress sexy and you will sign any contract.      1    1\n",
       "2                               Are you having period ?      1    1\n",
       "3                                     Stop being bitchy      1    1\n",
       "4     I leave early because of her children instead ...      1    1\n",
       "...                                                 ...    ...  ...\n",
       "1132  Opportunities are like night owls. They like t...      0    1\n",
       "1133  It's not just a question of doing what you lov...      0    1\n",
       "1134  A genius does what he masters. An ordinary man...      0    1\n",
       "1135  If you want to know the real reasons behind th...      0    1\n",
       "1136  Questioning is important for breakthrough inno...      0    1\n",
       "\n",
       "[1137 rows x 3 columns]"
      ],
      "text/html": [
       "<div>\n",
       "<style scoped>\n",
       "    .dataframe tbody tr th:only-of-type {\n",
       "        vertical-align: middle;\n",
       "    }\n",
       "\n",
       "    .dataframe tbody tr th {\n",
       "        vertical-align: top;\n",
       "    }\n",
       "\n",
       "    .dataframe thead th {\n",
       "        text-align: right;\n",
       "    }\n",
       "</style>\n",
       "<table border=\"1\" class=\"dataframe\">\n",
       "  <thead>\n",
       "    <tr style=\"text-align: right;\">\n",
       "      <th></th>\n",
       "      <th>text</th>\n",
       "      <th>label</th>\n",
       "      <th>set</th>\n",
       "    </tr>\n",
       "  </thead>\n",
       "  <tbody>\n",
       "    <tr>\n",
       "      <th>0</th>\n",
       "      <td>For a woman, that is good</td>\n",
       "      <td>1</td>\n",
       "      <td>1</td>\n",
       "    </tr>\n",
       "    <tr>\n",
       "      <th>1</th>\n",
       "      <td>Just dress sexy and you will sign any contract.</td>\n",
       "      <td>1</td>\n",
       "      <td>1</td>\n",
       "    </tr>\n",
       "    <tr>\n",
       "      <th>2</th>\n",
       "      <td>Are you having period ?</td>\n",
       "      <td>1</td>\n",
       "      <td>1</td>\n",
       "    </tr>\n",
       "    <tr>\n",
       "      <th>3</th>\n",
       "      <td>Stop being bitchy</td>\n",
       "      <td>1</td>\n",
       "      <td>1</td>\n",
       "    </tr>\n",
       "    <tr>\n",
       "      <th>4</th>\n",
       "      <td>I leave early because of her children instead ...</td>\n",
       "      <td>1</td>\n",
       "      <td>1</td>\n",
       "    </tr>\n",
       "    <tr>\n",
       "      <th>...</th>\n",
       "      <td>...</td>\n",
       "      <td>...</td>\n",
       "      <td>...</td>\n",
       "    </tr>\n",
       "    <tr>\n",
       "      <th>1132</th>\n",
       "      <td>Opportunities are like night owls. They like t...</td>\n",
       "      <td>0</td>\n",
       "      <td>1</td>\n",
       "    </tr>\n",
       "    <tr>\n",
       "      <th>1133</th>\n",
       "      <td>It's not just a question of doing what you lov...</td>\n",
       "      <td>0</td>\n",
       "      <td>1</td>\n",
       "    </tr>\n",
       "    <tr>\n",
       "      <th>1134</th>\n",
       "      <td>A genius does what he masters. An ordinary man...</td>\n",
       "      <td>0</td>\n",
       "      <td>1</td>\n",
       "    </tr>\n",
       "    <tr>\n",
       "      <th>1135</th>\n",
       "      <td>If you want to know the real reasons behind th...</td>\n",
       "      <td>0</td>\n",
       "      <td>1</td>\n",
       "    </tr>\n",
       "    <tr>\n",
       "      <th>1136</th>\n",
       "      <td>Questioning is important for breakthrough inno...</td>\n",
       "      <td>0</td>\n",
       "      <td>1</td>\n",
       "    </tr>\n",
       "  </tbody>\n",
       "</table>\n",
       "<p>1137 rows × 3 columns</p>\n",
       "</div>"
      ]
     },
     "execution_count": 28,
     "metadata": {},
     "output_type": "execute_result"
    }
   ],
   "execution_count": 28
  },
  {
   "metadata": {
    "ExecuteTime": {
     "end_time": "2024-09-23T17:11:34.248542Z",
     "start_time": "2024-09-23T17:11:34.243591Z"
    }
   },
   "cell_type": "code",
   "source": "edos",
   "id": "9b0a0b868b58e529",
   "outputs": [
    {
     "data": {
      "text/plain": [
       "                                                    text  label  set\n",
       "0      In Nigeria, if you rape a woman, the men rape ...      0    2\n",
       "1                                Then, she's a keeper. 😉      0    2\n",
       "2      This is like the Metallica video where the poo...      0    2\n",
       "3                                                 woman?      0    2\n",
       "4                         I bet she wished she had a gun      0    2\n",
       "...                                                  ...    ...  ...\n",
       "19995     girls really get fucked almost every weekend ?      0    2\n",
       "19996  The hatred for moslems are Reasonable and Just...      0    2\n",
       "19997                 Now this is a woman who gets it. 👆      0    2\n",
       "19998  “American Idol” finalist [USER] said nothing i...      0    2\n",
       "19999      this bi--th should be stoped she's the rapist      1    2\n",
       "\n",
       "[20000 rows x 3 columns]"
      ],
      "text/html": [
       "<div>\n",
       "<style scoped>\n",
       "    .dataframe tbody tr th:only-of-type {\n",
       "        vertical-align: middle;\n",
       "    }\n",
       "\n",
       "    .dataframe tbody tr th {\n",
       "        vertical-align: top;\n",
       "    }\n",
       "\n",
       "    .dataframe thead th {\n",
       "        text-align: right;\n",
       "    }\n",
       "</style>\n",
       "<table border=\"1\" class=\"dataframe\">\n",
       "  <thead>\n",
       "    <tr style=\"text-align: right;\">\n",
       "      <th></th>\n",
       "      <th>text</th>\n",
       "      <th>label</th>\n",
       "      <th>set</th>\n",
       "    </tr>\n",
       "  </thead>\n",
       "  <tbody>\n",
       "    <tr>\n",
       "      <th>0</th>\n",
       "      <td>In Nigeria, if you rape a woman, the men rape ...</td>\n",
       "      <td>0</td>\n",
       "      <td>2</td>\n",
       "    </tr>\n",
       "    <tr>\n",
       "      <th>1</th>\n",
       "      <td>Then, she's a keeper. 😉</td>\n",
       "      <td>0</td>\n",
       "      <td>2</td>\n",
       "    </tr>\n",
       "    <tr>\n",
       "      <th>2</th>\n",
       "      <td>This is like the Metallica video where the poo...</td>\n",
       "      <td>0</td>\n",
       "      <td>2</td>\n",
       "    </tr>\n",
       "    <tr>\n",
       "      <th>3</th>\n",
       "      <td>woman?</td>\n",
       "      <td>0</td>\n",
       "      <td>2</td>\n",
       "    </tr>\n",
       "    <tr>\n",
       "      <th>4</th>\n",
       "      <td>I bet she wished she had a gun</td>\n",
       "      <td>0</td>\n",
       "      <td>2</td>\n",
       "    </tr>\n",
       "    <tr>\n",
       "      <th>...</th>\n",
       "      <td>...</td>\n",
       "      <td>...</td>\n",
       "      <td>...</td>\n",
       "    </tr>\n",
       "    <tr>\n",
       "      <th>19995</th>\n",
       "      <td>girls really get fucked almost every weekend ?</td>\n",
       "      <td>0</td>\n",
       "      <td>2</td>\n",
       "    </tr>\n",
       "    <tr>\n",
       "      <th>19996</th>\n",
       "      <td>The hatred for moslems are Reasonable and Just...</td>\n",
       "      <td>0</td>\n",
       "      <td>2</td>\n",
       "    </tr>\n",
       "    <tr>\n",
       "      <th>19997</th>\n",
       "      <td>Now this is a woman who gets it. 👆</td>\n",
       "      <td>0</td>\n",
       "      <td>2</td>\n",
       "    </tr>\n",
       "    <tr>\n",
       "      <th>19998</th>\n",
       "      <td>“American Idol” finalist [USER] said nothing i...</td>\n",
       "      <td>0</td>\n",
       "      <td>2</td>\n",
       "    </tr>\n",
       "    <tr>\n",
       "      <th>19999</th>\n",
       "      <td>this bi--th should be stoped she's the rapist</td>\n",
       "      <td>1</td>\n",
       "      <td>2</td>\n",
       "    </tr>\n",
       "  </tbody>\n",
       "</table>\n",
       "<p>20000 rows × 3 columns</p>\n",
       "</div>"
      ]
     },
     "execution_count": 29,
     "metadata": {},
     "output_type": "execute_result"
    }
   ],
   "execution_count": 29
  },
  {
   "metadata": {
    "ExecuteTime": {
     "end_time": "2024-09-23T17:11:34.368419Z",
     "start_time": "2024-09-23T17:11:34.365242Z"
    }
   },
   "cell_type": "code",
   "source": "df = pd.concat([sexism_data,edos,etiq_sexista],ignore_index=True)\n",
   "id": "334f91c617c48ce9",
   "outputs": [],
   "execution_count": 30
  },
  {
   "metadata": {
    "ExecuteTime": {
     "end_time": "2024-09-26T08:19:08.915785Z",
     "start_time": "2024-09-26T08:19:08.909561Z"
    }
   },
   "cell_type": "code",
   "source": [
    "porcentaje = 7287/34457\n",
    "camb = 7287*5\n",
    "resto = 34457 - 7287\n",
    "nuevo = camb/(camb+resto)\n",
    "print(nuevo)"
   ],
   "id": "29ca83663522a23c",
   "outputs": [
    {
     "name": "stdout",
     "output_type": "stream",
     "text": [
      "0.5728323245027906\n"
     ]
    }
   ],
   "execution_count": 1
  },
  {
   "metadata": {
    "ExecuteTime": {
     "end_time": "2024-09-23T17:11:34.650569Z",
     "start_time": "2024-09-23T17:11:34.649048Z"
    }
   },
   "cell_type": "code",
   "source": "",
   "id": "c608c25b47935039",
   "outputs": [],
   "execution_count": null
  },
  {
   "metadata": {
    "ExecuteTime": {
     "end_time": "2024-09-23T17:11:34.793690Z",
     "start_time": "2024-09-23T17:11:34.788527Z"
    }
   },
   "cell_type": "code",
   "source": [
    "df_t = df[df['label']==1]\n",
    "df_f = df[df['label']==0]"
   ],
   "id": "e69bfe5586500c5a",
   "outputs": [],
   "execution_count": 32
  },
  {
   "metadata": {
    "ExecuteTime": {
     "end_time": "2024-09-23T17:11:34.999653Z",
     "start_time": "2024-09-23T17:11:34.935627Z"
    }
   },
   "cell_type": "code",
   "source": "df.to_csv('../data/full.csv',index = False)",
   "id": "3bfd777542afbd1c",
   "outputs": [],
   "execution_count": 33
  },
  {
   "metadata": {
    "ExecuteTime": {
     "end_time": "2024-09-23T17:11:35.126734Z",
     "start_time": "2024-09-23T17:11:35.109672Z"
    }
   },
   "cell_type": "code",
   "source": "df_t.to_csv('../data/only_sexist.csv', index = False)",
   "id": "46e69c5524f759da",
   "outputs": [],
   "execution_count": 34
  },
  {
   "metadata": {
    "ExecuteTime": {
     "end_time": "2024-09-26T08:22:30.039036Z",
     "start_time": "2024-09-26T08:22:29.997086Z"
    }
   },
   "cell_type": "code",
   "source": [
    "dftr = pd.read_csv('../data/EXIST 2021 Dataset/training/EXIST2021_training.tsv',sep='\\t')\n",
    "dfte = pd.read_csv('../data/EXIST 2021 Dataset/test/EXIST2021_test_labeled.tsv',sep='\\t')"
   ],
   "id": "a76ec2e78cf00921",
   "outputs": [],
   "execution_count": 8
  },
  {
   "metadata": {
    "ExecuteTime": {
     "end_time": "2024-09-26T08:25:43.791103Z",
     "start_time": "2024-09-26T08:25:43.784500Z"
    }
   },
   "cell_type": "code",
   "source": "dftr.count()",
   "id": "d2ff05478b229656",
   "outputs": [
    {
     "data": {
      "text/plain": [
       "test_case    6977\n",
       "id           6977\n",
       "source       6977\n",
       "language     6977\n",
       "text         6977\n",
       "task1        6977\n",
       "task2        6977\n",
       "dtype: int64"
      ]
     },
     "execution_count": 22,
     "metadata": {},
     "output_type": "execute_result"
    }
   ],
   "execution_count": 22
  },
  {
   "metadata": {
    "ExecuteTime": {
     "end_time": "2024-09-26T08:25:44.493336Z",
     "start_time": "2024-09-26T08:25:44.488165Z"
    }
   },
   "cell_type": "code",
   "source": "dfte.count()",
   "id": "44c03ed55be56195",
   "outputs": [
    {
     "data": {
      "text/plain": [
       "test_case    4368\n",
       "id           4368\n",
       "source       4368\n",
       "language     4368\n",
       "text         4368\n",
       "task1        4368\n",
       "task2        4368\n",
       "dtype: int64"
      ]
     },
     "execution_count": 23,
     "metadata": {},
     "output_type": "execute_result"
    }
   ],
   "execution_count": 23
  },
  {
   "metadata": {
    "ExecuteTime": {
     "end_time": "2024-09-26T08:27:01.918392Z",
     "start_time": "2024-09-26T08:27:01.883040Z"
    }
   },
   "cell_type": "code",
   "source": [
    "dftr_t = dftr[dftr['task1']==\"sexist\"]\n",
    "dfte_t = dfte[dfte['task1']==\"sexist\"]"
   ],
   "id": "ba86f0bb1aa86100",
   "outputs": [
    {
     "ename": "KeyError",
     "evalue": "\"None of [Index([(True, False, True, False, False, True, False, False, False, False, True, False, False, False, False, True, False, True, False, True, False, True, True, False, False, False, True, False, False, False, False, False, False, True, True, True, False, True, False, False, True, True, True, False, False, True, False, True, False, True, False, False, True, True, False, False, False, True, False, False, False, False, True, False, False, True, True, False, False, False, True, False, True, True, True, False, True, True, False, True, False, True, True, True, True, False, True, True, True, False, False, False, True, False, False, False, True, False, True, False, ...), (True, True, True, True, True, True, True, True, True, True, True, True, True, True, True, True, True, True, True, True, True, True, True, True, True, True, True, True, True, True, True, True, True, True, True, True, True, True, True, True, True, True, True, True, True, True, True, True, True, True, True, True, True, True, True, True, True, True, True, True, True, True, True, True, True, True, True, True, True, True, True, True, True, True, True, True, True, True, True, True, True, True, True, True, True, True, True, True, True, True, True, True, True, True, True, True, True, True, True, True, ...)], dtype='object')] are in the [columns]\"",
     "output_type": "error",
     "traceback": [
      "\u001B[0;31m---------------------------------------------------------------------------\u001B[0m",
      "\u001B[0;31mKeyError\u001B[0m                                  Traceback (most recent call last)",
      "Cell \u001B[0;32mIn[24], line 1\u001B[0m\n\u001B[0;32m----> 1\u001B[0m dftr_t \u001B[38;5;241m=\u001B[39m \u001B[43mdftr\u001B[49m\u001B[43m[\u001B[49m\u001B[43m[\u001B[49m\u001B[43mdftr\u001B[49m\u001B[43m[\u001B[49m\u001B[38;5;124;43m'\u001B[39;49m\u001B[38;5;124;43mtask1\u001B[39;49m\u001B[38;5;124;43m'\u001B[39;49m\u001B[43m]\u001B[49m\u001B[38;5;241;43m==\u001B[39;49m\u001B[38;5;124;43m\"\u001B[39;49m\u001B[38;5;124;43msexist\u001B[39;49m\u001B[38;5;124;43m\"\u001B[39;49m\u001B[43m,\u001B[49m\u001B[43m \u001B[49m\u001B[43mdftr\u001B[49m\u001B[43m[\u001B[49m\u001B[38;5;124;43m'\u001B[39;49m\u001B[38;5;124;43mlanguage\u001B[39;49m\u001B[38;5;124;43m'\u001B[39;49m\u001B[43m]\u001B[49m\u001B[38;5;241;43m==\u001B[39;49m\u001B[38;5;124;43m\"\u001B[39;49m\u001B[38;5;124;43men\u001B[39;49m\u001B[38;5;124;43m\"\u001B[39;49m\u001B[43m]\u001B[49m\u001B[43m]\u001B[49m\n\u001B[1;32m      2\u001B[0m dfte_t \u001B[38;5;241m=\u001B[39m dfte[dfte[\u001B[38;5;124m'\u001B[39m\u001B[38;5;124mtask1\u001B[39m\u001B[38;5;124m'\u001B[39m]\u001B[38;5;241m==\u001B[39m\u001B[38;5;124m\"\u001B[39m\u001B[38;5;124msexist\u001B[39m\u001B[38;5;124m\"\u001B[39m]\n",
      "File \u001B[0;32m/Library/Frameworks/Python.framework/Versions/3.11/lib/python3.11/site-packages/pandas/core/frame.py:4108\u001B[0m, in \u001B[0;36mDataFrame.__getitem__\u001B[0;34m(self, key)\u001B[0m\n\u001B[1;32m   4106\u001B[0m     \u001B[38;5;28;01mif\u001B[39;00m is_iterator(key):\n\u001B[1;32m   4107\u001B[0m         key \u001B[38;5;241m=\u001B[39m \u001B[38;5;28mlist\u001B[39m(key)\n\u001B[0;32m-> 4108\u001B[0m     indexer \u001B[38;5;241m=\u001B[39m \u001B[38;5;28;43mself\u001B[39;49m\u001B[38;5;241;43m.\u001B[39;49m\u001B[43mcolumns\u001B[49m\u001B[38;5;241;43m.\u001B[39;49m\u001B[43m_get_indexer_strict\u001B[49m\u001B[43m(\u001B[49m\u001B[43mkey\u001B[49m\u001B[43m,\u001B[49m\u001B[43m \u001B[49m\u001B[38;5;124;43m\"\u001B[39;49m\u001B[38;5;124;43mcolumns\u001B[39;49m\u001B[38;5;124;43m\"\u001B[39;49m\u001B[43m)\u001B[49m[\u001B[38;5;241m1\u001B[39m]\n\u001B[1;32m   4110\u001B[0m \u001B[38;5;66;03m# take() does not accept boolean indexers\u001B[39;00m\n\u001B[1;32m   4111\u001B[0m \u001B[38;5;28;01mif\u001B[39;00m \u001B[38;5;28mgetattr\u001B[39m(indexer, \u001B[38;5;124m\"\u001B[39m\u001B[38;5;124mdtype\u001B[39m\u001B[38;5;124m\"\u001B[39m, \u001B[38;5;28;01mNone\u001B[39;00m) \u001B[38;5;241m==\u001B[39m \u001B[38;5;28mbool\u001B[39m:\n",
      "File \u001B[0;32m/Library/Frameworks/Python.framework/Versions/3.11/lib/python3.11/site-packages/pandas/core/indexes/base.py:6200\u001B[0m, in \u001B[0;36mIndex._get_indexer_strict\u001B[0;34m(self, key, axis_name)\u001B[0m\n\u001B[1;32m   6197\u001B[0m \u001B[38;5;28;01melse\u001B[39;00m:\n\u001B[1;32m   6198\u001B[0m     keyarr, indexer, new_indexer \u001B[38;5;241m=\u001B[39m \u001B[38;5;28mself\u001B[39m\u001B[38;5;241m.\u001B[39m_reindex_non_unique(keyarr)\n\u001B[0;32m-> 6200\u001B[0m \u001B[38;5;28;43mself\u001B[39;49m\u001B[38;5;241;43m.\u001B[39;49m\u001B[43m_raise_if_missing\u001B[49m\u001B[43m(\u001B[49m\u001B[43mkeyarr\u001B[49m\u001B[43m,\u001B[49m\u001B[43m \u001B[49m\u001B[43mindexer\u001B[49m\u001B[43m,\u001B[49m\u001B[43m \u001B[49m\u001B[43maxis_name\u001B[49m\u001B[43m)\u001B[49m\n\u001B[1;32m   6202\u001B[0m keyarr \u001B[38;5;241m=\u001B[39m \u001B[38;5;28mself\u001B[39m\u001B[38;5;241m.\u001B[39mtake(indexer)\n\u001B[1;32m   6203\u001B[0m \u001B[38;5;28;01mif\u001B[39;00m \u001B[38;5;28misinstance\u001B[39m(key, Index):\n\u001B[1;32m   6204\u001B[0m     \u001B[38;5;66;03m# GH 42790 - Preserve name from an Index\u001B[39;00m\n",
      "File \u001B[0;32m/Library/Frameworks/Python.framework/Versions/3.11/lib/python3.11/site-packages/pandas/core/indexes/base.py:6249\u001B[0m, in \u001B[0;36mIndex._raise_if_missing\u001B[0;34m(self, key, indexer, axis_name)\u001B[0m\n\u001B[1;32m   6247\u001B[0m \u001B[38;5;28;01mif\u001B[39;00m nmissing:\n\u001B[1;32m   6248\u001B[0m     \u001B[38;5;28;01mif\u001B[39;00m nmissing \u001B[38;5;241m==\u001B[39m \u001B[38;5;28mlen\u001B[39m(indexer):\n\u001B[0;32m-> 6249\u001B[0m         \u001B[38;5;28;01mraise\u001B[39;00m \u001B[38;5;167;01mKeyError\u001B[39;00m(\u001B[38;5;124mf\u001B[39m\u001B[38;5;124m\"\u001B[39m\u001B[38;5;124mNone of [\u001B[39m\u001B[38;5;132;01m{\u001B[39;00mkey\u001B[38;5;132;01m}\u001B[39;00m\u001B[38;5;124m] are in the [\u001B[39m\u001B[38;5;132;01m{\u001B[39;00maxis_name\u001B[38;5;132;01m}\u001B[39;00m\u001B[38;5;124m]\u001B[39m\u001B[38;5;124m\"\u001B[39m)\n\u001B[1;32m   6251\u001B[0m     not_found \u001B[38;5;241m=\u001B[39m \u001B[38;5;28mlist\u001B[39m(ensure_index(key)[missing_mask\u001B[38;5;241m.\u001B[39mnonzero()[\u001B[38;5;241m0\u001B[39m]]\u001B[38;5;241m.\u001B[39munique())\n\u001B[1;32m   6252\u001B[0m     \u001B[38;5;28;01mraise\u001B[39;00m \u001B[38;5;167;01mKeyError\u001B[39;00m(\u001B[38;5;124mf\u001B[39m\u001B[38;5;124m\"\u001B[39m\u001B[38;5;132;01m{\u001B[39;00mnot_found\u001B[38;5;132;01m}\u001B[39;00m\u001B[38;5;124m not in index\u001B[39m\u001B[38;5;124m\"\u001B[39m)\n",
      "\u001B[0;31mKeyError\u001B[0m: \"None of [Index([(True, False, True, False, False, True, False, False, False, False, True, False, False, False, False, True, False, True, False, True, False, True, True, False, False, False, True, False, False, False, False, False, False, True, True, True, False, True, False, False, True, True, True, False, False, True, False, True, False, True, False, False, True, True, False, False, False, True, False, False, False, False, True, False, False, True, True, False, False, False, True, False, True, True, True, False, True, True, False, True, False, True, True, True, True, False, True, True, True, False, False, False, True, False, False, False, True, False, True, False, ...), (True, True, True, True, True, True, True, True, True, True, True, True, True, True, True, True, True, True, True, True, True, True, True, True, True, True, True, True, True, True, True, True, True, True, True, True, True, True, True, True, True, True, True, True, True, True, True, True, True, True, True, True, True, True, True, True, True, True, True, True, True, True, True, True, True, True, True, True, True, True, True, True, True, True, True, True, True, True, True, True, True, True, True, True, True, True, True, True, True, True, True, True, True, True, True, True, True, True, True, True, ...)], dtype='object')] are in the [columns]\""
     ]
    }
   ],
   "execution_count": 24
  },
  {
   "metadata": {
    "ExecuteTime": {
     "end_time": "2024-09-26T08:29:08.533138Z",
     "start_time": "2024-09-26T08:29:08.526663Z"
    }
   },
   "cell_type": "code",
   "source": [
    "\n",
    "print(dftr_t.count()/dftr.count())"
   ],
   "id": "e7693f19a990dea5",
   "outputs": [
    {
     "name": "stdout",
     "output_type": "stream",
     "text": [
      "test_case    0.484019\n",
      "id           0.484019\n",
      "source       0.484019\n",
      "language     0.484019\n",
      "text         0.484019\n",
      "task1        0.484019\n",
      "task2        0.484019\n",
      "dtype: float64\n"
     ]
    }
   ],
   "execution_count": 26
  },
  {
   "metadata": {
    "ExecuteTime": {
     "end_time": "2024-09-26T08:25:17.968518Z",
     "start_time": "2024-09-26T08:25:17.963007Z"
    }
   },
   "cell_type": "code",
   "source": "dfte_t.count()",
   "id": "9b6cd7ea7f8b12f",
   "outputs": [
    {
     "data": {
      "text/plain": [
       "test_case    2281\n",
       "id           2281\n",
       "source       2281\n",
       "language     2281\n",
       "text         2281\n",
       "task1        2281\n",
       "task2        2281\n",
       "dtype: int64"
      ]
     },
     "execution_count": 20,
     "metadata": {},
     "output_type": "execute_result"
    }
   ],
   "execution_count": 20
  },
  {
   "metadata": {
    "ExecuteTime": {
     "end_time": "2024-09-26T08:29:32.352262Z",
     "start_time": "2024-09-26T08:29:32.345329Z"
    }
   },
   "cell_type": "code",
   "source": "print(dfte_t.count()/dfte.count())\n",
   "id": "16e761f0f3f47a95",
   "outputs": [
    {
     "name": "stdout",
     "output_type": "stream",
     "text": [
      "test_case    0.522207\n",
      "id           0.522207\n",
      "source       0.522207\n",
      "language     0.522207\n",
      "text         0.522207\n",
      "task1        0.522207\n",
      "task2        0.522207\n",
      "dtype: float64\n"
     ]
    }
   ],
   "execution_count": 27
  },
  {
   "metadata": {},
   "cell_type": "code",
   "outputs": [],
   "execution_count": null,
   "source": "",
   "id": "e3fc5b117dbe7a39"
  }
 ],
 "metadata": {
  "kernelspec": {
   "display_name": "Python 3",
   "language": "python",
   "name": "python3"
  },
  "language_info": {
   "codemirror_mode": {
    "name": "ipython",
    "version": 2
   },
   "file_extension": ".py",
   "mimetype": "text/x-python",
   "name": "python",
   "nbconvert_exporter": "python",
   "pygments_lexer": "ipython2",
   "version": "2.7.6"
  }
 },
 "nbformat": 4,
 "nbformat_minor": 5
}

{
 "cells": [
  {
   "cell_type": "code",
   "id": "initial_id",
   "metadata": {
    "collapsed": true,
    "ExecuteTime": {
     "end_time": "2024-09-17T15:15:26.881554Z",
     "start_time": "2024-09-17T15:15:26.878987Z"
    }
   },
   "source": "import pandas as pd",
   "outputs": [],
   "execution_count": 30
  },
  {
   "metadata": {
    "ExecuteTime": {
     "end_time": "2024-09-17T15:15:27.282535Z",
     "start_time": "2024-09-17T15:15:27.221453Z"
    }
   },
   "cell_type": "code",
   "source": [
    "sexism_data = pd.read_csv('data/original/sexism_data.csv')\n",
    "etiq_sexista = pd.read_csv('data/original/Etiquetado sexista.csv')\n",
    "edos = pd.read_csv('data/original/edos_labelled_aggregated.csv')"
   ],
   "id": "5085511dc0e52434",
   "outputs": [],
   "execution_count": 31
  },
  {
   "metadata": {
    "ExecuteTime": {
     "end_time": "2024-09-17T15:15:27.664506Z",
     "start_time": "2024-09-17T15:15:27.652102Z"
    }
   },
   "cell_type": "code",
   "source": [
    "sexism_data.drop(['id','of_id','dataset','toxicity'], axis=1, inplace=True)\n",
    "edos.drop(['rewire_id','label_category','label_vector','split'], axis=1, inplace=True)\n",
    "\n",
    "edos.replace(\"not sexist\", 0, inplace=True)\n",
    "edos.replace(\"sexist\", 1, inplace=True)\n",
    "\n",
    "sexism_data.replace(\"False\", 0, inplace=True)\n",
    "sexism_data.replace(\"True\", 1, inplace=True)\n",
    "\n",
    "sexism_data = sexism_data.rename(columns={'sexist': 'Label'})\n",
    "edos = edos.rename(columns={'label_sexist': 'Label'})\n",
    "etiq_sexista = etiq_sexista.rename(columns={'Sentences': 'text'})\n",
    "\n",
    "sexism_data['set'] = 0\n",
    "etiq_sexista['set'] = 1\n",
    "edos['set'] = 2"
   ],
   "id": "4cd28c4f3e396d6",
   "outputs": [
    {
     "name": "stderr",
     "output_type": "stream",
     "text": [
      "/var/folders/xl/pzfrh6cs6m3509511z8q28500000gn/T/ipykernel_25730/4265939779.py:5: FutureWarning: Downcasting behavior in `replace` is deprecated and will be removed in a future version. To retain the old behavior, explicitly call `result.infer_objects(copy=False)`. To opt-in to the future behavior, set `pd.set_option('future.no_silent_downcasting', True)`\n",
      "  edos.replace(\"sexist\", 1, inplace=True)\n"
     ]
    }
   ],
   "execution_count": 32
  },
  {
   "metadata": {
    "ExecuteTime": {
     "end_time": "2024-09-17T15:15:28.620804Z",
     "start_time": "2024-09-17T15:15:28.617342Z"
    }
   },
   "cell_type": "code",
   "source": "sexism_data.head()",
   "id": "23125ef4e278e510",
   "outputs": [
    {
     "data": {
      "text/plain": [
       "                                                text  Label  set\n",
       "0  MENTION3481 i didn't even know random was an o...  False    0\n",
       "1                   Bottom two should've gone!  #mkr  False    0\n",
       "2  MENTION3111 MENTION3424 ladyboner deserves so ...  False    0\n",
       "3  She shall now be known as Sourpuss #MKR #KatAn...  False    0\n",
       "4  Tarah W threw a bunch of women under the bus s...  False    0"
      ],
      "text/html": [
       "<div>\n",
       "<style scoped>\n",
       "    .dataframe tbody tr th:only-of-type {\n",
       "        vertical-align: middle;\n",
       "    }\n",
       "\n",
       "    .dataframe tbody tr th {\n",
       "        vertical-align: top;\n",
       "    }\n",
       "\n",
       "    .dataframe thead th {\n",
       "        text-align: right;\n",
       "    }\n",
       "</style>\n",
       "<table border=\"1\" class=\"dataframe\">\n",
       "  <thead>\n",
       "    <tr style=\"text-align: right;\">\n",
       "      <th></th>\n",
       "      <th>text</th>\n",
       "      <th>Label</th>\n",
       "      <th>set</th>\n",
       "    </tr>\n",
       "  </thead>\n",
       "  <tbody>\n",
       "    <tr>\n",
       "      <th>0</th>\n",
       "      <td>MENTION3481 i didn't even know random was an o...</td>\n",
       "      <td>False</td>\n",
       "      <td>0</td>\n",
       "    </tr>\n",
       "    <tr>\n",
       "      <th>1</th>\n",
       "      <td>Bottom two should've gone!  #mkr</td>\n",
       "      <td>False</td>\n",
       "      <td>0</td>\n",
       "    </tr>\n",
       "    <tr>\n",
       "      <th>2</th>\n",
       "      <td>MENTION3111 MENTION3424 ladyboner deserves so ...</td>\n",
       "      <td>False</td>\n",
       "      <td>0</td>\n",
       "    </tr>\n",
       "    <tr>\n",
       "      <th>3</th>\n",
       "      <td>She shall now be known as Sourpuss #MKR #KatAn...</td>\n",
       "      <td>False</td>\n",
       "      <td>0</td>\n",
       "    </tr>\n",
       "    <tr>\n",
       "      <th>4</th>\n",
       "      <td>Tarah W threw a bunch of women under the bus s...</td>\n",
       "      <td>False</td>\n",
       "      <td>0</td>\n",
       "    </tr>\n",
       "  </tbody>\n",
       "</table>\n",
       "</div>"
      ]
     },
     "execution_count": 33,
     "metadata": {},
     "output_type": "execute_result"
    }
   ],
   "execution_count": 33
  },
  {
   "metadata": {
    "ExecuteTime": {
     "end_time": "2024-09-17T15:15:29.137080Z",
     "start_time": "2024-09-17T15:15:29.132294Z"
    }
   },
   "cell_type": "code",
   "source": "sexism_data",
   "id": "ea0592ef70684a52",
   "outputs": [
    {
     "data": {
      "text/plain": [
       "                                                    text  Label  set\n",
       "0      MENTION3481 i didn't even know random was an o...  False    0\n",
       "1                       Bottom two should've gone!  #mkr  False    0\n",
       "2      MENTION3111 MENTION3424 ladyboner deserves so ...  False    0\n",
       "3      She shall now be known as Sourpuss #MKR #KatAn...  False    0\n",
       "4      Tarah W threw a bunch of women under the bus s...  False    0\n",
       "...                                                  ...    ...  ...\n",
       "13626  this reminds me of the MENTION3079 situation; ...  False    0\n",
       "13627  #mkr I love Annie and loyld there like a real ...  False    0\n",
       "13628                       No u. http://t.co/zOr0eWahSS  False    0\n",
       "13629  #mkr the way kat looks at Annie is like she's ...  False    0\n",
       "13630  #mkr omg the kiss stains on the \"dirty\" mirror...  False    0\n",
       "\n",
       "[13631 rows x 3 columns]"
      ],
      "text/html": [
       "<div>\n",
       "<style scoped>\n",
       "    .dataframe tbody tr th:only-of-type {\n",
       "        vertical-align: middle;\n",
       "    }\n",
       "\n",
       "    .dataframe tbody tr th {\n",
       "        vertical-align: top;\n",
       "    }\n",
       "\n",
       "    .dataframe thead th {\n",
       "        text-align: right;\n",
       "    }\n",
       "</style>\n",
       "<table border=\"1\" class=\"dataframe\">\n",
       "  <thead>\n",
       "    <tr style=\"text-align: right;\">\n",
       "      <th></th>\n",
       "      <th>text</th>\n",
       "      <th>Label</th>\n",
       "      <th>set</th>\n",
       "    </tr>\n",
       "  </thead>\n",
       "  <tbody>\n",
       "    <tr>\n",
       "      <th>0</th>\n",
       "      <td>MENTION3481 i didn't even know random was an o...</td>\n",
       "      <td>False</td>\n",
       "      <td>0</td>\n",
       "    </tr>\n",
       "    <tr>\n",
       "      <th>1</th>\n",
       "      <td>Bottom two should've gone!  #mkr</td>\n",
       "      <td>False</td>\n",
       "      <td>0</td>\n",
       "    </tr>\n",
       "    <tr>\n",
       "      <th>2</th>\n",
       "      <td>MENTION3111 MENTION3424 ladyboner deserves so ...</td>\n",
       "      <td>False</td>\n",
       "      <td>0</td>\n",
       "    </tr>\n",
       "    <tr>\n",
       "      <th>3</th>\n",
       "      <td>She shall now be known as Sourpuss #MKR #KatAn...</td>\n",
       "      <td>False</td>\n",
       "      <td>0</td>\n",
       "    </tr>\n",
       "    <tr>\n",
       "      <th>4</th>\n",
       "      <td>Tarah W threw a bunch of women under the bus s...</td>\n",
       "      <td>False</td>\n",
       "      <td>0</td>\n",
       "    </tr>\n",
       "    <tr>\n",
       "      <th>...</th>\n",
       "      <td>...</td>\n",
       "      <td>...</td>\n",
       "      <td>...</td>\n",
       "    </tr>\n",
       "    <tr>\n",
       "      <th>13626</th>\n",
       "      <td>this reminds me of the MENTION3079 situation; ...</td>\n",
       "      <td>False</td>\n",
       "      <td>0</td>\n",
       "    </tr>\n",
       "    <tr>\n",
       "      <th>13627</th>\n",
       "      <td>#mkr I love Annie and loyld there like a real ...</td>\n",
       "      <td>False</td>\n",
       "      <td>0</td>\n",
       "    </tr>\n",
       "    <tr>\n",
       "      <th>13628</th>\n",
       "      <td>No u. http://t.co/zOr0eWahSS</td>\n",
       "      <td>False</td>\n",
       "      <td>0</td>\n",
       "    </tr>\n",
       "    <tr>\n",
       "      <th>13629</th>\n",
       "      <td>#mkr the way kat looks at Annie is like she's ...</td>\n",
       "      <td>False</td>\n",
       "      <td>0</td>\n",
       "    </tr>\n",
       "    <tr>\n",
       "      <th>13630</th>\n",
       "      <td>#mkr omg the kiss stains on the \"dirty\" mirror...</td>\n",
       "      <td>False</td>\n",
       "      <td>0</td>\n",
       "    </tr>\n",
       "  </tbody>\n",
       "</table>\n",
       "<p>13631 rows × 3 columns</p>\n",
       "</div>"
      ]
     },
     "execution_count": 34,
     "metadata": {},
     "output_type": "execute_result"
    }
   ],
   "execution_count": 34
  },
  {
   "metadata": {
    "ExecuteTime": {
     "end_time": "2024-09-17T15:15:29.284175Z",
     "start_time": "2024-09-17T15:15:29.279582Z"
    }
   },
   "cell_type": "code",
   "source": "etiq_sexista",
   "id": "59876dae3ab5fe0b",
   "outputs": [
    {
     "data": {
      "text/plain": [
       "                                                   text  Label  set\n",
       "0                             For a woman, that is good      1    1\n",
       "1       Just dress sexy and you will sign any contract.      1    1\n",
       "2                               Are you having period ?      1    1\n",
       "3                                     Stop being bitchy      1    1\n",
       "4     I leave early because of her children instead ...      1    1\n",
       "...                                                 ...    ...  ...\n",
       "1132  Opportunities are like night owls. They like t...      0    1\n",
       "1133  It's not just a question of doing what you lov...      0    1\n",
       "1134  A genius does what he masters. An ordinary man...      0    1\n",
       "1135  If you want to know the real reasons behind th...      0    1\n",
       "1136  Questioning is important for breakthrough inno...      0    1\n",
       "\n",
       "[1137 rows x 3 columns]"
      ],
      "text/html": [
       "<div>\n",
       "<style scoped>\n",
       "    .dataframe tbody tr th:only-of-type {\n",
       "        vertical-align: middle;\n",
       "    }\n",
       "\n",
       "    .dataframe tbody tr th {\n",
       "        vertical-align: top;\n",
       "    }\n",
       "\n",
       "    .dataframe thead th {\n",
       "        text-align: right;\n",
       "    }\n",
       "</style>\n",
       "<table border=\"1\" class=\"dataframe\">\n",
       "  <thead>\n",
       "    <tr style=\"text-align: right;\">\n",
       "      <th></th>\n",
       "      <th>text</th>\n",
       "      <th>Label</th>\n",
       "      <th>set</th>\n",
       "    </tr>\n",
       "  </thead>\n",
       "  <tbody>\n",
       "    <tr>\n",
       "      <th>0</th>\n",
       "      <td>For a woman, that is good</td>\n",
       "      <td>1</td>\n",
       "      <td>1</td>\n",
       "    </tr>\n",
       "    <tr>\n",
       "      <th>1</th>\n",
       "      <td>Just dress sexy and you will sign any contract.</td>\n",
       "      <td>1</td>\n",
       "      <td>1</td>\n",
       "    </tr>\n",
       "    <tr>\n",
       "      <th>2</th>\n",
       "      <td>Are you having period ?</td>\n",
       "      <td>1</td>\n",
       "      <td>1</td>\n",
       "    </tr>\n",
       "    <tr>\n",
       "      <th>3</th>\n",
       "      <td>Stop being bitchy</td>\n",
       "      <td>1</td>\n",
       "      <td>1</td>\n",
       "    </tr>\n",
       "    <tr>\n",
       "      <th>4</th>\n",
       "      <td>I leave early because of her children instead ...</td>\n",
       "      <td>1</td>\n",
       "      <td>1</td>\n",
       "    </tr>\n",
       "    <tr>\n",
       "      <th>...</th>\n",
       "      <td>...</td>\n",
       "      <td>...</td>\n",
       "      <td>...</td>\n",
       "    </tr>\n",
       "    <tr>\n",
       "      <th>1132</th>\n",
       "      <td>Opportunities are like night owls. They like t...</td>\n",
       "      <td>0</td>\n",
       "      <td>1</td>\n",
       "    </tr>\n",
       "    <tr>\n",
       "      <th>1133</th>\n",
       "      <td>It's not just a question of doing what you lov...</td>\n",
       "      <td>0</td>\n",
       "      <td>1</td>\n",
       "    </tr>\n",
       "    <tr>\n",
       "      <th>1134</th>\n",
       "      <td>A genius does what he masters. An ordinary man...</td>\n",
       "      <td>0</td>\n",
       "      <td>1</td>\n",
       "    </tr>\n",
       "    <tr>\n",
       "      <th>1135</th>\n",
       "      <td>If you want to know the real reasons behind th...</td>\n",
       "      <td>0</td>\n",
       "      <td>1</td>\n",
       "    </tr>\n",
       "    <tr>\n",
       "      <th>1136</th>\n",
       "      <td>Questioning is important for breakthrough inno...</td>\n",
       "      <td>0</td>\n",
       "      <td>1</td>\n",
       "    </tr>\n",
       "  </tbody>\n",
       "</table>\n",
       "<p>1137 rows × 3 columns</p>\n",
       "</div>"
      ]
     },
     "execution_count": 35,
     "metadata": {},
     "output_type": "execute_result"
    }
   ],
   "execution_count": 35
  },
  {
   "metadata": {
    "ExecuteTime": {
     "end_time": "2024-09-17T15:15:29.420636Z",
     "start_time": "2024-09-17T15:15:29.416865Z"
    }
   },
   "cell_type": "code",
   "source": "edos",
   "id": "9b0a0b868b58e529",
   "outputs": [
    {
     "data": {
      "text/plain": [
       "                                                    text  Label  set\n",
       "0      In Nigeria, if you rape a woman, the men rape ...      0    2\n",
       "1                                Then, she's a keeper. 😉      0    2\n",
       "2      This is like the Metallica video where the poo...      0    2\n",
       "3                                                 woman?      0    2\n",
       "4                         I bet she wished she had a gun      0    2\n",
       "...                                                  ...    ...  ...\n",
       "19995     girls really get fucked almost every weekend ?      0    2\n",
       "19996  The hatred for moslems are Reasonable and Just...      0    2\n",
       "19997                 Now this is a woman who gets it. 👆      0    2\n",
       "19998  “American Idol” finalist [USER] said nothing i...      0    2\n",
       "19999      this bi--th should be stoped she's the rapist      1    2\n",
       "\n",
       "[20000 rows x 3 columns]"
      ],
      "text/html": [
       "<div>\n",
       "<style scoped>\n",
       "    .dataframe tbody tr th:only-of-type {\n",
       "        vertical-align: middle;\n",
       "    }\n",
       "\n",
       "    .dataframe tbody tr th {\n",
       "        vertical-align: top;\n",
       "    }\n",
       "\n",
       "    .dataframe thead th {\n",
       "        text-align: right;\n",
       "    }\n",
       "</style>\n",
       "<table border=\"1\" class=\"dataframe\">\n",
       "  <thead>\n",
       "    <tr style=\"text-align: right;\">\n",
       "      <th></th>\n",
       "      <th>text</th>\n",
       "      <th>Label</th>\n",
       "      <th>set</th>\n",
       "    </tr>\n",
       "  </thead>\n",
       "  <tbody>\n",
       "    <tr>\n",
       "      <th>0</th>\n",
       "      <td>In Nigeria, if you rape a woman, the men rape ...</td>\n",
       "      <td>0</td>\n",
       "      <td>2</td>\n",
       "    </tr>\n",
       "    <tr>\n",
       "      <th>1</th>\n",
       "      <td>Then, she's a keeper. 😉</td>\n",
       "      <td>0</td>\n",
       "      <td>2</td>\n",
       "    </tr>\n",
       "    <tr>\n",
       "      <th>2</th>\n",
       "      <td>This is like the Metallica video where the poo...</td>\n",
       "      <td>0</td>\n",
       "      <td>2</td>\n",
       "    </tr>\n",
       "    <tr>\n",
       "      <th>3</th>\n",
       "      <td>woman?</td>\n",
       "      <td>0</td>\n",
       "      <td>2</td>\n",
       "    </tr>\n",
       "    <tr>\n",
       "      <th>4</th>\n",
       "      <td>I bet she wished she had a gun</td>\n",
       "      <td>0</td>\n",
       "      <td>2</td>\n",
       "    </tr>\n",
       "    <tr>\n",
       "      <th>...</th>\n",
       "      <td>...</td>\n",
       "      <td>...</td>\n",
       "      <td>...</td>\n",
       "    </tr>\n",
       "    <tr>\n",
       "      <th>19995</th>\n",
       "      <td>girls really get fucked almost every weekend ?</td>\n",
       "      <td>0</td>\n",
       "      <td>2</td>\n",
       "    </tr>\n",
       "    <tr>\n",
       "      <th>19996</th>\n",
       "      <td>The hatred for moslems are Reasonable and Just...</td>\n",
       "      <td>0</td>\n",
       "      <td>2</td>\n",
       "    </tr>\n",
       "    <tr>\n",
       "      <th>19997</th>\n",
       "      <td>Now this is a woman who gets it. 👆</td>\n",
       "      <td>0</td>\n",
       "      <td>2</td>\n",
       "    </tr>\n",
       "    <tr>\n",
       "      <th>19998</th>\n",
       "      <td>“American Idol” finalist [USER] said nothing i...</td>\n",
       "      <td>0</td>\n",
       "      <td>2</td>\n",
       "    </tr>\n",
       "    <tr>\n",
       "      <th>19999</th>\n",
       "      <td>this bi--th should be stoped she's the rapist</td>\n",
       "      <td>1</td>\n",
       "      <td>2</td>\n",
       "    </tr>\n",
       "  </tbody>\n",
       "</table>\n",
       "<p>20000 rows × 3 columns</p>\n",
       "</div>"
      ]
     },
     "execution_count": 36,
     "metadata": {},
     "output_type": "execute_result"
    }
   ],
   "execution_count": 36
  },
  {
   "metadata": {
    "ExecuteTime": {
     "end_time": "2024-09-17T15:15:29.563648Z",
     "start_time": "2024-09-17T15:15:29.560667Z"
    }
   },
   "cell_type": "code",
   "source": "df = pd.concat([sexism_data,edos,etiq_sexista],ignore_index=True)\n",
   "id": "334f91c617c48ce9",
   "outputs": [],
   "execution_count": 37
  },
  {
   "metadata": {
    "ExecuteTime": {
     "end_time": "2024-09-17T16:36:08.838700Z",
     "start_time": "2024-09-17T16:36:08.832304Z"
    }
   },
   "cell_type": "code",
   "source": [
    "porcentaje = 7287/34457\n",
    "camb = 7287*4\n",
    "resto = 34457 - 7287\n",
    "nuevo = camb/(camb+resto)\n",
    "print(nuevo)"
   ],
   "id": "29ca83663522a23c",
   "outputs": [
    {
     "name": "stdout",
     "output_type": "stream",
     "text": [
      "0.5175609929329876\n"
     ]
    }
   ],
   "execution_count": 45
  },
  {
   "metadata": {
    "ExecuteTime": {
     "end_time": "2024-09-17T16:34:47.766309Z",
     "start_time": "2024-09-17T16:34:47.748814Z"
    }
   },
   "cell_type": "code",
   "source": "",
   "id": "c608c25b47935039",
   "outputs": [
    {
     "data": {
      "text/plain": [
       "29148"
      ]
     },
     "execution_count": 43,
     "metadata": {},
     "output_type": "execute_result"
    }
   ],
   "execution_count": 43
  },
  {
   "metadata": {
    "ExecuteTime": {
     "end_time": "2024-09-17T15:15:30.357926Z",
     "start_time": "2024-09-17T15:15:30.352084Z"
    }
   },
   "cell_type": "code",
   "source": [
    "df_t = df[df['Label']==1]\n",
    "df_f = df[df['Label']==0]"
   ],
   "id": "e69bfe5586500c5a",
   "outputs": [],
   "execution_count": 39
  },
  {
   "metadata": {
    "ExecuteTime": {
     "end_time": "2024-09-17T15:15:30.782464Z",
     "start_time": "2024-09-17T15:15:30.735819Z"
    }
   },
   "cell_type": "code",
   "source": "df.to_csv('data/full.csv',index = False)",
   "id": "3bfd777542afbd1c",
   "outputs": [],
   "execution_count": 40
  },
  {
   "metadata": {
    "ExecuteTime": {
     "end_time": "2024-09-17T15:15:31.788396Z",
     "start_time": "2024-09-17T15:15:31.766719Z"
    }
   },
   "cell_type": "code",
   "source": "df_t.to_csv('data/only_sexist.csv', index = False)",
   "id": "46e69c5524f759da",
   "outputs": [],
   "execution_count": 41
  },
  {
   "metadata": {},
   "cell_type": "code",
   "outputs": [],
   "execution_count": null,
   "source": "",
   "id": "a76ec2e78cf00921"
  }
 ],
 "metadata": {
  "kernelspec": {
   "display_name": "Python 3",
   "language": "python",
   "name": "python3"
  },
  "language_info": {
   "codemirror_mode": {
    "name": "ipython",
    "version": 2
   },
   "file_extension": ".py",
   "mimetype": "text/x-python",
   "name": "python",
   "nbconvert_exporter": "python",
   "pygments_lexer": "ipython2",
   "version": "2.7.6"
  }
 },
 "nbformat": 4,
 "nbformat_minor": 5
}

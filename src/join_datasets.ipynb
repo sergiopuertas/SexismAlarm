{
 "cells": [
  {
   "cell_type": "code",
   "id": "initial_id",
   "metadata": {
    "collapsed": true,
    "ExecuteTime": {
     "end_time": "2024-09-12T15:04:44.823311Z",
     "start_time": "2024-09-12T15:04:44.339833Z"
    }
   },
   "source": "import pandas as pd",
   "outputs": [],
   "execution_count": 7
  },
  {
   "metadata": {
    "ExecuteTime": {
     "end_time": "2024-09-12T13:21:43.257268Z",
     "start_time": "2024-09-12T13:21:43.184162Z"
    }
   },
   "cell_type": "code",
   "source": [
    "sexism_data = pd.read_csv('data/sexism_data.csv')\n",
    "etiq_sexista = pd.read_csv('data/Etiquetado sexista.csv')\n",
    "edos = pd.read_csv('data/edos_labelled_aggregated.csv')"
   ],
   "id": "5085511dc0e52434",
   "outputs": [],
   "execution_count": 3
  },
  {
   "metadata": {
    "ExecuteTime": {
     "end_time": "2024-09-12T13:59:36.575067Z",
     "start_time": "2024-09-12T13:59:36.566506Z"
    }
   },
   "cell_type": "code",
   "source": [
    "sexism_data.drop(['id','of_id','dataset','toxicity'], axis=1, inplace=True)\n",
    "edos.drop(['rewire_id','label_category','label_vector','split'], axis=1, inplace=True)\n",
    "edos.drop(['rewire_id','label_category','label_vector','split'], axis=1, inplace=True)\n",
    "\n",
    "edos.replace(\"not sexist\", 0, inplace=True)\n",
    "edos.replace(\"sexist\", 1, inplace=True)\n",
    "\n",
    "sexism_data.replace(\"False\", 0, inplace=True)\n",
    "sexism_data.replace(\"True\", 1, inplace=True)\n",
    "\n",
    "sexism_data = sexism_data.rename(columns={'sexist': 'Label'})\n",
    "edos = edos.rename(columns={'label_sexist': 'Label'})\n",
    "etiq_sexista = etiq_sexista.rename(columns={'Sentences': 'text'})\n",
    "\n",
    "sexism_data['set'] = 0\n",
    "etiq_sexista['set'] = 1\n",
    "edos['set'] = 2"
   ],
   "id": "4cd28c4f3e396d6",
   "outputs": [],
   "execution_count": 38
  },
  {
   "metadata": {
    "ExecuteTime": {
     "end_time": "2024-09-12T13:59:37.490086Z",
     "start_time": "2024-09-12T13:59:37.485347Z"
    }
   },
   "cell_type": "code",
   "source": "sexism_data.head()",
   "id": "23125ef4e278e510",
   "outputs": [
    {
     "data": {
      "text/plain": [
       "                                                text  Label  set\n",
       "0  MENTION3481 i didn't even know random was an o...  False    0\n",
       "1                   Bottom two should've gone!  #mkr  False    0\n",
       "2  MENTION3111 MENTION3424 ladyboner deserves so ...  False    0\n",
       "3  She shall now be known as Sourpuss #MKR #KatAn...  False    0\n",
       "4  Tarah W threw a bunch of women under the bus s...  False    0"
      ],
      "text/html": [
       "<div>\n",
       "<style scoped>\n",
       "    .dataframe tbody tr th:only-of-type {\n",
       "        vertical-align: middle;\n",
       "    }\n",
       "\n",
       "    .dataframe tbody tr th {\n",
       "        vertical-align: top;\n",
       "    }\n",
       "\n",
       "    .dataframe thead th {\n",
       "        text-align: right;\n",
       "    }\n",
       "</style>\n",
       "<table border=\"1\" class=\"dataframe\">\n",
       "  <thead>\n",
       "    <tr style=\"text-align: right;\">\n",
       "      <th></th>\n",
       "      <th>text</th>\n",
       "      <th>Label</th>\n",
       "      <th>set</th>\n",
       "    </tr>\n",
       "  </thead>\n",
       "  <tbody>\n",
       "    <tr>\n",
       "      <th>0</th>\n",
       "      <td>MENTION3481 i didn't even know random was an o...</td>\n",
       "      <td>False</td>\n",
       "      <td>0</td>\n",
       "    </tr>\n",
       "    <tr>\n",
       "      <th>1</th>\n",
       "      <td>Bottom two should've gone!  #mkr</td>\n",
       "      <td>False</td>\n",
       "      <td>0</td>\n",
       "    </tr>\n",
       "    <tr>\n",
       "      <th>2</th>\n",
       "      <td>MENTION3111 MENTION3424 ladyboner deserves so ...</td>\n",
       "      <td>False</td>\n",
       "      <td>0</td>\n",
       "    </tr>\n",
       "    <tr>\n",
       "      <th>3</th>\n",
       "      <td>She shall now be known as Sourpuss #MKR #KatAn...</td>\n",
       "      <td>False</td>\n",
       "      <td>0</td>\n",
       "    </tr>\n",
       "    <tr>\n",
       "      <th>4</th>\n",
       "      <td>Tarah W threw a bunch of women under the bus s...</td>\n",
       "      <td>False</td>\n",
       "      <td>0</td>\n",
       "    </tr>\n",
       "  </tbody>\n",
       "</table>\n",
       "</div>"
      ]
     },
     "execution_count": 39,
     "metadata": {},
     "output_type": "execute_result"
    }
   ],
   "execution_count": 39
  },
  {
   "metadata": {
    "ExecuteTime": {
     "end_time": "2024-09-12T14:01:49.316094Z",
     "start_time": "2024-09-12T14:01:49.309985Z"
    }
   },
   "cell_type": "code",
   "source": "sexism_data",
   "id": "ea0592ef70684a52",
   "outputs": [
    {
     "data": {
      "text/plain": [
       "                                                    text  Label  set\n",
       "0      MENTION3481 i didn't even know random was an o...  False    0\n",
       "1                       Bottom two should've gone!  #mkr  False    0\n",
       "2      MENTION3111 MENTION3424 ladyboner deserves so ...  False    0\n",
       "3      She shall now be known as Sourpuss #MKR #KatAn...  False    0\n",
       "4      Tarah W threw a bunch of women under the bus s...  False    0\n",
       "...                                                  ...    ...  ...\n",
       "13626  this reminds me of the MENTION3079 situation; ...  False    0\n",
       "13627  #mkr I love Annie and loyld there like a real ...  False    0\n",
       "13628                       No u. http://t.co/zOr0eWahSS  False    0\n",
       "13629  #mkr the way kat looks at Annie is like she's ...  False    0\n",
       "13630  #mkr omg the kiss stains on the \"dirty\" mirror...  False    0\n",
       "\n",
       "[13631 rows x 3 columns]"
      ],
      "text/html": [
       "<div>\n",
       "<style scoped>\n",
       "    .dataframe tbody tr th:only-of-type {\n",
       "        vertical-align: middle;\n",
       "    }\n",
       "\n",
       "    .dataframe tbody tr th {\n",
       "        vertical-align: top;\n",
       "    }\n",
       "\n",
       "    .dataframe thead th {\n",
       "        text-align: right;\n",
       "    }\n",
       "</style>\n",
       "<table border=\"1\" class=\"dataframe\">\n",
       "  <thead>\n",
       "    <tr style=\"text-align: right;\">\n",
       "      <th></th>\n",
       "      <th>text</th>\n",
       "      <th>Label</th>\n",
       "      <th>set</th>\n",
       "    </tr>\n",
       "  </thead>\n",
       "  <tbody>\n",
       "    <tr>\n",
       "      <th>0</th>\n",
       "      <td>MENTION3481 i didn't even know random was an o...</td>\n",
       "      <td>False</td>\n",
       "      <td>0</td>\n",
       "    </tr>\n",
       "    <tr>\n",
       "      <th>1</th>\n",
       "      <td>Bottom two should've gone!  #mkr</td>\n",
       "      <td>False</td>\n",
       "      <td>0</td>\n",
       "    </tr>\n",
       "    <tr>\n",
       "      <th>2</th>\n",
       "      <td>MENTION3111 MENTION3424 ladyboner deserves so ...</td>\n",
       "      <td>False</td>\n",
       "      <td>0</td>\n",
       "    </tr>\n",
       "    <tr>\n",
       "      <th>3</th>\n",
       "      <td>She shall now be known as Sourpuss #MKR #KatAn...</td>\n",
       "      <td>False</td>\n",
       "      <td>0</td>\n",
       "    </tr>\n",
       "    <tr>\n",
       "      <th>4</th>\n",
       "      <td>Tarah W threw a bunch of women under the bus s...</td>\n",
       "      <td>False</td>\n",
       "      <td>0</td>\n",
       "    </tr>\n",
       "    <tr>\n",
       "      <th>...</th>\n",
       "      <td>...</td>\n",
       "      <td>...</td>\n",
       "      <td>...</td>\n",
       "    </tr>\n",
       "    <tr>\n",
       "      <th>13626</th>\n",
       "      <td>this reminds me of the MENTION3079 situation; ...</td>\n",
       "      <td>False</td>\n",
       "      <td>0</td>\n",
       "    </tr>\n",
       "    <tr>\n",
       "      <th>13627</th>\n",
       "      <td>#mkr I love Annie and loyld there like a real ...</td>\n",
       "      <td>False</td>\n",
       "      <td>0</td>\n",
       "    </tr>\n",
       "    <tr>\n",
       "      <th>13628</th>\n",
       "      <td>No u. http://t.co/zOr0eWahSS</td>\n",
       "      <td>False</td>\n",
       "      <td>0</td>\n",
       "    </tr>\n",
       "    <tr>\n",
       "      <th>13629</th>\n",
       "      <td>#mkr the way kat looks at Annie is like she's ...</td>\n",
       "      <td>False</td>\n",
       "      <td>0</td>\n",
       "    </tr>\n",
       "    <tr>\n",
       "      <th>13630</th>\n",
       "      <td>#mkr omg the kiss stains on the \"dirty\" mirror...</td>\n",
       "      <td>False</td>\n",
       "      <td>0</td>\n",
       "    </tr>\n",
       "  </tbody>\n",
       "</table>\n",
       "<p>13631 rows × 3 columns</p>\n",
       "</div>"
      ]
     },
     "execution_count": 43,
     "metadata": {},
     "output_type": "execute_result"
    }
   ],
   "execution_count": 43
  },
  {
   "metadata": {
    "ExecuteTime": {
     "end_time": "2024-09-12T14:02:02.382214Z",
     "start_time": "2024-09-12T14:02:02.375413Z"
    }
   },
   "cell_type": "code",
   "source": "etiq_sexista",
   "id": "59876dae3ab5fe0b",
   "outputs": [
    {
     "data": {
      "text/plain": [
       "                                                   text  Label  set\n",
       "0                             For a woman, that is good      1    1\n",
       "1       Just dress sexy and you will sign any contract.      1    1\n",
       "2                               Are you having period ?      1    1\n",
       "3                                     Stop being bitchy      1    1\n",
       "4     I leave early because of her children instead ...      1    1\n",
       "...                                                 ...    ...  ...\n",
       "1132  Opportunities are like night owls. They like t...      0    1\n",
       "1133  It's not just a question of doing what you lov...      0    1\n",
       "1134  A genius does what he masters. An ordinary man...      0    1\n",
       "1135  If you want to know the real reasons behind th...      0    1\n",
       "1136  Questioning is important for breakthrough inno...      0    1\n",
       "\n",
       "[1137 rows x 3 columns]"
      ],
      "text/html": [
       "<div>\n",
       "<style scoped>\n",
       "    .dataframe tbody tr th:only-of-type {\n",
       "        vertical-align: middle;\n",
       "    }\n",
       "\n",
       "    .dataframe tbody tr th {\n",
       "        vertical-align: top;\n",
       "    }\n",
       "\n",
       "    .dataframe thead th {\n",
       "        text-align: right;\n",
       "    }\n",
       "</style>\n",
       "<table border=\"1\" class=\"dataframe\">\n",
       "  <thead>\n",
       "    <tr style=\"text-align: right;\">\n",
       "      <th></th>\n",
       "      <th>text</th>\n",
       "      <th>Label</th>\n",
       "      <th>set</th>\n",
       "    </tr>\n",
       "  </thead>\n",
       "  <tbody>\n",
       "    <tr>\n",
       "      <th>0</th>\n",
       "      <td>For a woman, that is good</td>\n",
       "      <td>1</td>\n",
       "      <td>1</td>\n",
       "    </tr>\n",
       "    <tr>\n",
       "      <th>1</th>\n",
       "      <td>Just dress sexy and you will sign any contract.</td>\n",
       "      <td>1</td>\n",
       "      <td>1</td>\n",
       "    </tr>\n",
       "    <tr>\n",
       "      <th>2</th>\n",
       "      <td>Are you having period ?</td>\n",
       "      <td>1</td>\n",
       "      <td>1</td>\n",
       "    </tr>\n",
       "    <tr>\n",
       "      <th>3</th>\n",
       "      <td>Stop being bitchy</td>\n",
       "      <td>1</td>\n",
       "      <td>1</td>\n",
       "    </tr>\n",
       "    <tr>\n",
       "      <th>4</th>\n",
       "      <td>I leave early because of her children instead ...</td>\n",
       "      <td>1</td>\n",
       "      <td>1</td>\n",
       "    </tr>\n",
       "    <tr>\n",
       "      <th>...</th>\n",
       "      <td>...</td>\n",
       "      <td>...</td>\n",
       "      <td>...</td>\n",
       "    </tr>\n",
       "    <tr>\n",
       "      <th>1132</th>\n",
       "      <td>Opportunities are like night owls. They like t...</td>\n",
       "      <td>0</td>\n",
       "      <td>1</td>\n",
       "    </tr>\n",
       "    <tr>\n",
       "      <th>1133</th>\n",
       "      <td>It's not just a question of doing what you lov...</td>\n",
       "      <td>0</td>\n",
       "      <td>1</td>\n",
       "    </tr>\n",
       "    <tr>\n",
       "      <th>1134</th>\n",
       "      <td>A genius does what he masters. An ordinary man...</td>\n",
       "      <td>0</td>\n",
       "      <td>1</td>\n",
       "    </tr>\n",
       "    <tr>\n",
       "      <th>1135</th>\n",
       "      <td>If you want to know the real reasons behind th...</td>\n",
       "      <td>0</td>\n",
       "      <td>1</td>\n",
       "    </tr>\n",
       "    <tr>\n",
       "      <th>1136</th>\n",
       "      <td>Questioning is important for breakthrough inno...</td>\n",
       "      <td>0</td>\n",
       "      <td>1</td>\n",
       "    </tr>\n",
       "  </tbody>\n",
       "</table>\n",
       "<p>1137 rows × 3 columns</p>\n",
       "</div>"
      ]
     },
     "execution_count": 44,
     "metadata": {},
     "output_type": "execute_result"
    }
   ],
   "execution_count": 44
  },
  {
   "metadata": {
    "ExecuteTime": {
     "end_time": "2024-09-12T14:02:18.863460Z",
     "start_time": "2024-09-12T14:02:18.858867Z"
    }
   },
   "cell_type": "code",
   "source": "edos",
   "id": "9b0a0b868b58e529",
   "outputs": [
    {
     "data": {
      "text/plain": [
       "                                                    text  Label  set\n",
       "0      In Nigeria, if you rape a woman, the men rape ...      0    2\n",
       "1                                Then, she's a keeper. 😉      0    2\n",
       "2      This is like the Metallica video where the poo...      0    2\n",
       "3                                                 woman?      0    2\n",
       "4                         I bet she wished she had a gun      0    2\n",
       "...                                                  ...    ...  ...\n",
       "19995     girls really get fucked almost every weekend ?      0    2\n",
       "19996  The hatred for moslems are Reasonable and Just...      0    2\n",
       "19997                 Now this is a woman who gets it. 👆      0    2\n",
       "19998  “American Idol” finalist [USER] said nothing i...      0    2\n",
       "19999      this bi--th should be stoped she's the rapist      1    2\n",
       "\n",
       "[20000 rows x 3 columns]"
      ],
      "text/html": [
       "<div>\n",
       "<style scoped>\n",
       "    .dataframe tbody tr th:only-of-type {\n",
       "        vertical-align: middle;\n",
       "    }\n",
       "\n",
       "    .dataframe tbody tr th {\n",
       "        vertical-align: top;\n",
       "    }\n",
       "\n",
       "    .dataframe thead th {\n",
       "        text-align: right;\n",
       "    }\n",
       "</style>\n",
       "<table border=\"1\" class=\"dataframe\">\n",
       "  <thead>\n",
       "    <tr style=\"text-align: right;\">\n",
       "      <th></th>\n",
       "      <th>text</th>\n",
       "      <th>Label</th>\n",
       "      <th>set</th>\n",
       "    </tr>\n",
       "  </thead>\n",
       "  <tbody>\n",
       "    <tr>\n",
       "      <th>0</th>\n",
       "      <td>In Nigeria, if you rape a woman, the men rape ...</td>\n",
       "      <td>0</td>\n",
       "      <td>2</td>\n",
       "    </tr>\n",
       "    <tr>\n",
       "      <th>1</th>\n",
       "      <td>Then, she's a keeper. 😉</td>\n",
       "      <td>0</td>\n",
       "      <td>2</td>\n",
       "    </tr>\n",
       "    <tr>\n",
       "      <th>2</th>\n",
       "      <td>This is like the Metallica video where the poo...</td>\n",
       "      <td>0</td>\n",
       "      <td>2</td>\n",
       "    </tr>\n",
       "    <tr>\n",
       "      <th>3</th>\n",
       "      <td>woman?</td>\n",
       "      <td>0</td>\n",
       "      <td>2</td>\n",
       "    </tr>\n",
       "    <tr>\n",
       "      <th>4</th>\n",
       "      <td>I bet she wished she had a gun</td>\n",
       "      <td>0</td>\n",
       "      <td>2</td>\n",
       "    </tr>\n",
       "    <tr>\n",
       "      <th>...</th>\n",
       "      <td>...</td>\n",
       "      <td>...</td>\n",
       "      <td>...</td>\n",
       "    </tr>\n",
       "    <tr>\n",
       "      <th>19995</th>\n",
       "      <td>girls really get fucked almost every weekend ?</td>\n",
       "      <td>0</td>\n",
       "      <td>2</td>\n",
       "    </tr>\n",
       "    <tr>\n",
       "      <th>19996</th>\n",
       "      <td>The hatred for moslems are Reasonable and Just...</td>\n",
       "      <td>0</td>\n",
       "      <td>2</td>\n",
       "    </tr>\n",
       "    <tr>\n",
       "      <th>19997</th>\n",
       "      <td>Now this is a woman who gets it. 👆</td>\n",
       "      <td>0</td>\n",
       "      <td>2</td>\n",
       "    </tr>\n",
       "    <tr>\n",
       "      <th>19998</th>\n",
       "      <td>“American Idol” finalist [USER] said nothing i...</td>\n",
       "      <td>0</td>\n",
       "      <td>2</td>\n",
       "    </tr>\n",
       "    <tr>\n",
       "      <th>19999</th>\n",
       "      <td>this bi--th should be stoped she's the rapist</td>\n",
       "      <td>1</td>\n",
       "      <td>2</td>\n",
       "    </tr>\n",
       "  </tbody>\n",
       "</table>\n",
       "<p>20000 rows × 3 columns</p>\n",
       "</div>"
      ]
     },
     "execution_count": 45,
     "metadata": {},
     "output_type": "execute_result"
    }
   ],
   "execution_count": 45
  },
  {
   "metadata": {
    "ExecuteTime": {
     "end_time": "2024-09-12T13:59:42.955253Z",
     "start_time": "2024-09-12T13:59:42.950744Z"
    }
   },
   "cell_type": "code",
   "source": "df = pd.concat([sexism_data,edos,etiq_sexista],ignore_index=True)\n",
   "id": "334f91c617c48ce9",
   "outputs": [],
   "execution_count": 41
  },
  {
   "metadata": {
    "ExecuteTime": {
     "end_time": "2024-09-12T13:59:48.626761Z",
     "start_time": "2024-09-12T13:59:48.619880Z"
    }
   },
   "cell_type": "code",
   "source": "df",
   "id": "bee030daefad8419",
   "outputs": [
    {
     "data": {
      "text/plain": [
       "                                                    text  Label  set\n",
       "0      MENTION3481 i didn't even know random was an o...      0    0\n",
       "1                       Bottom two should've gone!  #mkr      0    0\n",
       "2      MENTION3111 MENTION3424 ladyboner deserves so ...      0    0\n",
       "3      She shall now be known as Sourpuss #MKR #KatAn...      0    0\n",
       "4      Tarah W threw a bunch of women under the bus s...      0    0\n",
       "...                                                  ...    ...  ...\n",
       "34763  Opportunities are like night owls. They like t...      0    1\n",
       "34764  It's not just a question of doing what you lov...      0    1\n",
       "34765  A genius does what he masters. An ordinary man...      0    1\n",
       "34766  If you want to know the real reasons behind th...      0    1\n",
       "34767  Questioning is important for breakthrough inno...      0    1\n",
       "\n",
       "[34768 rows x 3 columns]"
      ],
      "text/html": [
       "<div>\n",
       "<style scoped>\n",
       "    .dataframe tbody tr th:only-of-type {\n",
       "        vertical-align: middle;\n",
       "    }\n",
       "\n",
       "    .dataframe tbody tr th {\n",
       "        vertical-align: top;\n",
       "    }\n",
       "\n",
       "    .dataframe thead th {\n",
       "        text-align: right;\n",
       "    }\n",
       "</style>\n",
       "<table border=\"1\" class=\"dataframe\">\n",
       "  <thead>\n",
       "    <tr style=\"text-align: right;\">\n",
       "      <th></th>\n",
       "      <th>text</th>\n",
       "      <th>Label</th>\n",
       "      <th>set</th>\n",
       "    </tr>\n",
       "  </thead>\n",
       "  <tbody>\n",
       "    <tr>\n",
       "      <th>0</th>\n",
       "      <td>MENTION3481 i didn't even know random was an o...</td>\n",
       "      <td>0</td>\n",
       "      <td>0</td>\n",
       "    </tr>\n",
       "    <tr>\n",
       "      <th>1</th>\n",
       "      <td>Bottom two should've gone!  #mkr</td>\n",
       "      <td>0</td>\n",
       "      <td>0</td>\n",
       "    </tr>\n",
       "    <tr>\n",
       "      <th>2</th>\n",
       "      <td>MENTION3111 MENTION3424 ladyboner deserves so ...</td>\n",
       "      <td>0</td>\n",
       "      <td>0</td>\n",
       "    </tr>\n",
       "    <tr>\n",
       "      <th>3</th>\n",
       "      <td>She shall now be known as Sourpuss #MKR #KatAn...</td>\n",
       "      <td>0</td>\n",
       "      <td>0</td>\n",
       "    </tr>\n",
       "    <tr>\n",
       "      <th>4</th>\n",
       "      <td>Tarah W threw a bunch of women under the bus s...</td>\n",
       "      <td>0</td>\n",
       "      <td>0</td>\n",
       "    </tr>\n",
       "    <tr>\n",
       "      <th>...</th>\n",
       "      <td>...</td>\n",
       "      <td>...</td>\n",
       "      <td>...</td>\n",
       "    </tr>\n",
       "    <tr>\n",
       "      <th>34763</th>\n",
       "      <td>Opportunities are like night owls. They like t...</td>\n",
       "      <td>0</td>\n",
       "      <td>1</td>\n",
       "    </tr>\n",
       "    <tr>\n",
       "      <th>34764</th>\n",
       "      <td>It's not just a question of doing what you lov...</td>\n",
       "      <td>0</td>\n",
       "      <td>1</td>\n",
       "    </tr>\n",
       "    <tr>\n",
       "      <th>34765</th>\n",
       "      <td>A genius does what he masters. An ordinary man...</td>\n",
       "      <td>0</td>\n",
       "      <td>1</td>\n",
       "    </tr>\n",
       "    <tr>\n",
       "      <th>34766</th>\n",
       "      <td>If you want to know the real reasons behind th...</td>\n",
       "      <td>0</td>\n",
       "      <td>1</td>\n",
       "    </tr>\n",
       "    <tr>\n",
       "      <th>34767</th>\n",
       "      <td>Questioning is important for breakthrough inno...</td>\n",
       "      <td>0</td>\n",
       "      <td>1</td>\n",
       "    </tr>\n",
       "  </tbody>\n",
       "</table>\n",
       "<p>34768 rows × 3 columns</p>\n",
       "</div>"
      ]
     },
     "execution_count": 42,
     "metadata": {},
     "output_type": "execute_result"
    }
   ],
   "execution_count": 42
  },
  {
   "metadata": {
    "ExecuteTime": {
     "end_time": "2024-09-12T14:03:21.956669Z",
     "start_time": "2024-09-12T14:03:21.953333Z"
    }
   },
   "cell_type": "code",
   "source": "7287/34457",
   "id": "29ca83663522a23c",
   "outputs": [
    {
     "data": {
      "text/plain": [
       "0.2114809762892881"
      ]
     },
     "execution_count": 46,
     "metadata": {},
     "output_type": "execute_result"
    }
   ],
   "execution_count": 46
  },
  {
   "metadata": {
    "ExecuteTime": {
     "end_time": "2024-09-12T14:04:19.528511Z",
     "start_time": "2024-09-12T14:04:19.459885Z"
    }
   },
   "cell_type": "code",
   "source": "df.to_csv('data/full.csv')",
   "id": "3bfd777542afbd1c",
   "outputs": [],
   "execution_count": 47
  },
  {
   "metadata": {
    "ExecuteTime": {
     "end_time": "2024-09-12T15:04:51.976099Z",
     "start_time": "2024-09-12T15:04:51.922971Z"
    }
   },
   "cell_type": "code",
   "source": [
    "df = pd.read_csv(\n",
    "    'data/full.csv'\n",
    ")"
   ],
   "id": "46e69c5524f759da",
   "outputs": [],
   "execution_count": 8
  },
  {
   "metadata": {
    "ExecuteTime": {
     "end_time": "2024-09-12T15:07:17.427770Z",
     "start_time": "2024-09-12T15:07:17.421623Z"
    }
   },
   "cell_type": "code",
   "source": [
    "df_t = df[df['Label']==1]\n",
    "df_f = df[df['Label']==0]"
   ],
   "id": "7b7cc9d792263f05",
   "outputs": [],
   "execution_count": 11
  },
  {
   "metadata": {
    "ExecuteTime": {
     "end_time": "2024-09-12T15:07:43.956822Z",
     "start_time": "2024-09-12T15:07:43.933677Z"
    }
   },
   "cell_type": "code",
   "source": "df_t.to_csv('data/only_sexist.csv')",
   "id": "cb8bcf93f8b8fa97",
   "outputs": [],
   "execution_count": 12
  },
  {
   "metadata": {},
   "cell_type": "code",
   "outputs": [],
   "execution_count": null,
   "source": "",
   "id": "38c5c9f1492f12b1"
  }
 ],
 "metadata": {
  "kernelspec": {
   "display_name": "Python 3",
   "language": "python",
   "name": "python3"
  },
  "language_info": {
   "codemirror_mode": {
    "name": "ipython",
    "version": 2
   },
   "file_extension": ".py",
   "mimetype": "text/x-python",
   "name": "python",
   "nbconvert_exporter": "python",
   "pygments_lexer": "ipython2",
   "version": "2.7.6"
  }
 },
 "nbformat": 4,
 "nbformat_minor": 5
}
